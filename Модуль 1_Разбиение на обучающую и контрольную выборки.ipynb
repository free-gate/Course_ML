{
 "cells": [
  {
   "cell_type": "code",
   "execution_count": 1,
   "metadata": {},
   "outputs": [],
   "source": [
    "# импортируем необходимые библиотеки, классы и функции\n",
    "\n",
    "# импортируем библиотеки numpy и pandas\n",
    "import numpy as np\n",
    "import pandas as pd\n",
    "# импортируем функцию boxcox() для выполнения\n",
    "# преобразования Бокса-Кокса\n",
    "from scipy.stats import boxcox\n",
    "# импортируем класс LogisticRegression для построения\n",
    "# логистической регрессии\n",
    "from sklearn.linear_model import LogisticRegression\n",
    "# импортируем функцию roc_auc_score для вычисления AUC\n",
    "from sklearn.metrics import roc_auc_score"
   ]
  },
  {
   "cell_type": "code",
   "execution_count": 2,
   "metadata": {},
   "outputs": [],
   "source": [
    "# записываем CSV-файл в объект DataFrame\n",
    "data = pd.read_csv('Data/Example.csv', sep=';')"
   ]
  },
  {
   "cell_type": "code",
   "execution_count": 3,
   "metadata": {},
   "outputs": [
    {
     "data": {
      "text/html": [
       "<div>\n",
       "<style scoped>\n",
       "    .dataframe tbody tr th:only-of-type {\n",
       "        vertical-align: middle;\n",
       "    }\n",
       "\n",
       "    .dataframe tbody tr th {\n",
       "        vertical-align: top;\n",
       "    }\n",
       "\n",
       "    .dataframe thead th {\n",
       "        text-align: right;\n",
       "    }\n",
       "</style>\n",
       "<table border=\"1\" class=\"dataframe\">\n",
       "  <thead>\n",
       "    <tr style=\"text-align: right;\">\n",
       "      <th></th>\n",
       "      <th>longdist</th>\n",
       "      <th>internat</th>\n",
       "      <th>local</th>\n",
       "      <th>int_disc</th>\n",
       "      <th>billtype</th>\n",
       "      <th>pay</th>\n",
       "      <th>age</th>\n",
       "      <th>gender</th>\n",
       "      <th>marital</th>\n",
       "      <th>children</th>\n",
       "      <th>income</th>\n",
       "      <th>churn</th>\n",
       "    </tr>\n",
       "  </thead>\n",
       "  <tbody>\n",
       "    <tr>\n",
       "      <th>0</th>\n",
       "      <td>27,09</td>\n",
       "      <td>0</td>\n",
       "      <td>39,74</td>\n",
       "      <td>Нет</td>\n",
       "      <td>Бюджетный</td>\n",
       "      <td>CC</td>\n",
       "      <td>35.0</td>\n",
       "      <td>Женский</td>\n",
       "      <td>Женат</td>\n",
       "      <td>0.0</td>\n",
       "      <td>77680</td>\n",
       "      <td>0</td>\n",
       "    </tr>\n",
       "    <tr>\n",
       "      <th>1</th>\n",
       "      <td>NaN</td>\n",
       "      <td>0</td>\n",
       "      <td>46,31</td>\n",
       "      <td>Нет</td>\n",
       "      <td>NaN</td>\n",
       "      <td>NaN</td>\n",
       "      <td>53.0</td>\n",
       "      <td>Мужской</td>\n",
       "      <td>Одинокий</td>\n",
       "      <td>1.0</td>\n",
       "      <td>37111,5</td>\n",
       "      <td>0</td>\n",
       "    </tr>\n",
       "    <tr>\n",
       "      <th>2</th>\n",
       "      <td>23,76</td>\n",
       "      <td>0</td>\n",
       "      <td>NaN</td>\n",
       "      <td>NaN</td>\n",
       "      <td>Бюджетный</td>\n",
       "      <td>Auto</td>\n",
       "      <td>NaN</td>\n",
       "      <td>Женский</td>\n",
       "      <td>NaN</td>\n",
       "      <td>1.0</td>\n",
       "      <td>37079,4</td>\n",
       "      <td>0</td>\n",
       "    </tr>\n",
       "    <tr>\n",
       "      <th>3</th>\n",
       "      <td>9,4</td>\n",
       "      <td>NaN</td>\n",
       "      <td>13,9</td>\n",
       "      <td>Нет</td>\n",
       "      <td>NaN</td>\n",
       "      <td>CH</td>\n",
       "      <td>NaN</td>\n",
       "      <td>Мужской</td>\n",
       "      <td>Одинокий</td>\n",
       "      <td>NaN</td>\n",
       "      <td>81997</td>\n",
       "      <td>0</td>\n",
       "    </tr>\n",
       "    <tr>\n",
       "      <th>4</th>\n",
       "      <td>14,15</td>\n",
       "      <td>0</td>\n",
       "      <td>108,43</td>\n",
       "      <td>Да</td>\n",
       "      <td>Бесплатный</td>\n",
       "      <td>Auto</td>\n",
       "      <td>39.0</td>\n",
       "      <td>Женский</td>\n",
       "      <td>Одинокий</td>\n",
       "      <td>0.0</td>\n",
       "      <td>16829,6</td>\n",
       "      <td>0</td>\n",
       "    </tr>\n",
       "  </tbody>\n",
       "</table>\n",
       "</div>"
      ],
      "text/plain": [
       "  longdist internat   local int_disc    billtype   pay   age   gender  \\\n",
       "0    27,09        0   39,74      Нет   Бюджетный    CC  35.0  Женский   \n",
       "1      NaN        0   46,31      Нет         NaN   NaN  53.0  Мужской   \n",
       "2    23,76        0     NaN      NaN   Бюджетный  Auto   NaN  Женский   \n",
       "3      9,4      NaN    13,9      Нет         NaN    CH   NaN  Мужской   \n",
       "4    14,15        0  108,43       Да  Бесплатный  Auto  39.0  Женский   \n",
       "\n",
       "    marital  children   income  churn  \n",
       "0     Женат       0.0    77680      0  \n",
       "1  Одинокий       1.0  37111,5      0  \n",
       "2       NaN       1.0  37079,4      0  \n",
       "3  Одинокий       NaN    81997      0  \n",
       "4  Одинокий       0.0  16829,6      0  "
      ]
     },
     "execution_count": 3,
     "metadata": {},
     "output_type": "execute_result"
    }
   ],
   "source": [
    "# смотрим первые 5 наблюдений\n",
    "data.head()"
   ]
  },
  {
   "cell_type": "code",
   "execution_count": 4,
   "metadata": {
    "scrolled": false
   },
   "outputs": [],
   "source": [
    "# заменяем запятые на точки и преобразуем в тип float\n",
    "for i in ['longdist', 'internat', 'local', 'income']:\n",
    "    data[i] = data[i].str.replace(',', '.').astype('float')"
   ]
  },
  {
   "cell_type": "code",
   "execution_count": 5,
   "metadata": {},
   "outputs": [],
   "source": [
    "# удаляем лишние символы в категориях переменных\n",
    "# gender и marital\n",
    "for i in ['gender', 'marital']:\n",
    "    data[i] = data[i].str.replace('[*&_]', '')"
   ]
  },
  {
   "cell_type": "code",
   "execution_count": 6,
   "metadata": {},
   "outputs": [],
   "source": [
    "# заменяем редкую категорию модой\n",
    "data.at[data['pay'] == 'CD', 'pay'] = 'CC'"
   ]
  },
  {
   "cell_type": "code",
   "execution_count": 7,
   "metadata": {},
   "outputs": [],
   "source": [
    "# пишем функцию, создающую парные взаимодействия\n",
    "def make_conj(df, feature1, feature2):\n",
    "    df[feature1 + \"_\" + feature2] = df[feature1].astype('object') + \" + \" + df[feature2].astype('object')"
   ]
  },
  {
   "cell_type": "code",
   "execution_count": 8,
   "metadata": {},
   "outputs": [],
   "source": [
    "# применяем функцию\n",
    "make_conj(data, 'gender', 'marital')"
   ]
  },
  {
   "cell_type": "code",
   "execution_count": 9,
   "metadata": {},
   "outputs": [],
   "source": [
    "# поделим возраст на длительность междугородних звонков в минутах\n",
    "data['ratio'] = data['age'] / data['longdist']\n",
    "# заменяем бесконечные значения на 1\n",
    "data['ratio'].replace([np.inf, -np.inf], 1, inplace=True)"
   ]
  },
  {
   "cell_type": "code",
   "execution_count": 10,
   "metadata": {},
   "outputs": [],
   "source": [
    "# поделим длительность междугородних звонков в минутах на\n",
    "# длительность международных звонков в минутах\n",
    "data['ratio2'] = data['longdist'] / data['internat']\n",
    "# заменяем бесконечные значения на 0\n",
    "data['ratio2'].replace([np.inf, -np.inf], 0, inplace=True)"
   ]
  },
  {
   "cell_type": "code",
   "execution_count": 11,
   "metadata": {},
   "outputs": [],
   "source": [
    "# поделим доход на возраст\n",
    "data['ratio3'] = data['income'] / data['age']\n",
    "# заменяем бесконечные значения на 0\n",
    "data['ratio3'].replace([np.inf, -np.inf], 0, inplace=True)"
   ]
  },
  {
   "cell_type": "code",
   "execution_count": 12,
   "metadata": {},
   "outputs": [],
   "source": [
    "# поделим возраст на количество детей\n",
    "data['ratio4'] = data['age'] / data['children']\n",
    "# заменяем бесконечные значения на 0\n",
    "data['ratio4'].replace([np.inf, -np.inf], 0, inplace=True)"
   ]
  },
  {
   "cell_type": "code",
   "execution_count": 13,
   "metadata": {},
   "outputs": [],
   "source": [
    "# разбиваем данные на обучающую и контрольную выборки\n",
    "train = data.sample(frac=0.7, random_state=200)\n",
    "test = data.drop(train.index)"
   ]
  },
  {
   "cell_type": "code",
   "execution_count": 14,
   "metadata": {},
   "outputs": [],
   "source": [
    "# создаем обучающий и контрольный \n",
    "# массивы меток\n",
    "y_train = train.pop('churn').values\n",
    "y_test = test.pop('churn').values"
   ]
  },
  {
   "cell_type": "code",
   "execution_count": 15,
   "metadata": {},
   "outputs": [],
   "source": [
    "# заменяем пропуски в количественных переменных средними\n",
    "numerical_columns = train.dtypes[train.dtypes != 'object'].index \n",
    "for i in numerical_columns:\n",
    "    train[i].fillna(train[i].mean(), inplace=True)\n",
    "    test[i].fillna(train[i].mean(), inplace=True)"
   ]
  },
  {
   "cell_type": "code",
   "execution_count": 16,
   "metadata": {},
   "outputs": [],
   "source": [
    "# заменяем пропуски в категориальных переменных модой\n",
    "categorical_columns = train.dtypes[train.dtypes == 'object'].index\n",
    "for i in categorical_columns:\n",
    "    train[i].fillna(train[i].value_counts().index[0], inplace=True)\n",
    "    test[i].fillna(train[i].value_counts().index[0], inplace=True)"
   ]
  },
  {
   "cell_type": "code",
   "execution_count": 17,
   "metadata": {},
   "outputs": [],
   "source": [
    "# подготавливаем данные перед преобразованием Бокса-Кокса\n",
    "# (данные должны быть положительными)\n",
    "train.replace({0: 0.5}, inplace=True)\n",
    "test.replace({0: 0.5}, inplace=True)"
   ]
  },
  {
   "cell_type": "code",
   "execution_count": 18,
   "metadata": {},
   "outputs": [],
   "source": [
    "# выполняем преобразование Бокса-Кокса\n",
    "for i in numerical_columns:  \n",
    "    train[i], fitted_lambda = boxcox(train[i])     \n",
    "    test[i] = boxcox(test[i], fitted_lambda)   "
   ]
  },
  {
   "cell_type": "code",
   "execution_count": 19,
   "metadata": {},
   "outputs": [],
   "source": [
    "# выполняем стандартизацию количественных переменных\n",
    "train_copy = train.copy()\n",
    "for i in numerical_columns:    \n",
    "    train[i] = (train[i] - train[i].mean()) / train[i].std()\n",
    "    test[i] = (test[i] - train_copy[i].mean()) / train_copy[i].std()"
   ]
  },
  {
   "cell_type": "code",
   "execution_count": 20,
   "metadata": {
    "scrolled": false
   },
   "outputs": [],
   "source": [
    "# выполняем дамми-кодирование и создаем \n",
    "# обучающий и контрольный массивы признаков\n",
    "X_train = pd.get_dummies(train)\n",
    "X_test = pd.get_dummies(test)"
   ]
  },
  {
   "cell_type": "code",
   "execution_count": 21,
   "metadata": {},
   "outputs": [
    {
     "name": "stdout",
     "output_type": "stream",
     "text": [
      "AUC на обучающей выборке: 0.885\n",
      "AUC на контрольной выборке: 0.888\n"
     ]
    }
   ],
   "source": [
    "# создаем экземпляр класса LogisticRegression \n",
    "# (по сути задаем модель) и обучаем\n",
    "logreg = LogisticRegression(solver='lbfgs', max_iter=200).fit(X_train, \n",
    "                                                              y_train)\n",
    "# печатаем значения AUC\n",
    "print(\"AUC на обучающей выборке: {:.3f}\".format(\n",
    "    roc_auc_score(y_train, logreg.predict_proba(X_train)[:, 1])))\n",
    "print(\"AUC на контрольной выборке: {:.3f}\".format(\n",
    "    roc_auc_score(y_test, logreg.predict_proba(X_test)[:, 1])))"
   ]
  }
 ],
 "metadata": {
  "kernelspec": {
   "display_name": "Python 3",
   "language": "python",
   "name": "python3"
  },
  "language_info": {
   "codemirror_mode": {
    "name": "ipython",
    "version": 3
   },
   "file_extension": ".py",
   "mimetype": "text/x-python",
   "name": "python",
   "nbconvert_exporter": "python",
   "pygments_lexer": "ipython3",
   "version": "3.6.5"
  }
 },
 "nbformat": 4,
 "nbformat_minor": 2
}
