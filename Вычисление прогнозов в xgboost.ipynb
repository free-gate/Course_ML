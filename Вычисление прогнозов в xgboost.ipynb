{
 "cells": [
  {
   "cell_type": "code",
   "execution_count": 1,
   "metadata": {},
   "outputs": [],
   "source": [
    "import xgboost\n",
    "import numpy as np\n",
    "import pandas as pd"
   ]
  },
  {
   "cell_type": "code",
   "execution_count": 2,
   "metadata": {},
   "outputs": [
    {
     "data": {
      "text/html": [
       "<div>\n",
       "<style scoped>\n",
       "    .dataframe tbody tr th:only-of-type {\n",
       "        vertical-align: middle;\n",
       "    }\n",
       "\n",
       "    .dataframe tbody tr th {\n",
       "        vertical-align: top;\n",
       "    }\n",
       "\n",
       "    .dataframe thead th {\n",
       "        text-align: right;\n",
       "    }\n",
       "</style>\n",
       "<table border=\"1\" class=\"dataframe\">\n",
       "  <thead>\n",
       "    <tr style=\"text-align: right;\">\n",
       "      <th></th>\n",
       "      <th>age</th>\n",
       "      <th>response</th>\n",
       "    </tr>\n",
       "  </thead>\n",
       "  <tbody>\n",
       "    <tr>\n",
       "      <th>0</th>\n",
       "      <td>23</td>\n",
       "      <td>0</td>\n",
       "    </tr>\n",
       "    <tr>\n",
       "      <th>1</th>\n",
       "      <td>45</td>\n",
       "      <td>0</td>\n",
       "    </tr>\n",
       "    <tr>\n",
       "      <th>2</th>\n",
       "      <td>44</td>\n",
       "      <td>0</td>\n",
       "    </tr>\n",
       "    <tr>\n",
       "      <th>3</th>\n",
       "      <td>20</td>\n",
       "      <td>0</td>\n",
       "    </tr>\n",
       "    <tr>\n",
       "      <th>4</th>\n",
       "      <td>49</td>\n",
       "      <td>0</td>\n",
       "    </tr>\n",
       "    <tr>\n",
       "      <th>5</th>\n",
       "      <td>56</td>\n",
       "      <td>1</td>\n",
       "    </tr>\n",
       "    <tr>\n",
       "      <th>6</th>\n",
       "      <td>55</td>\n",
       "      <td>1</td>\n",
       "    </tr>\n",
       "    <tr>\n",
       "      <th>7</th>\n",
       "      <td>43</td>\n",
       "      <td>1</td>\n",
       "    </tr>\n",
       "    <tr>\n",
       "      <th>8</th>\n",
       "      <td>23</td>\n",
       "      <td>0</td>\n",
       "    </tr>\n",
       "    <tr>\n",
       "      <th>9</th>\n",
       "      <td>67</td>\n",
       "      <td>0</td>\n",
       "    </tr>\n",
       "    <tr>\n",
       "      <th>10</th>\n",
       "      <td>54</td>\n",
       "      <td>0</td>\n",
       "    </tr>\n",
       "    <tr>\n",
       "      <th>11</th>\n",
       "      <td>43</td>\n",
       "      <td>0</td>\n",
       "    </tr>\n",
       "    <tr>\n",
       "      <th>12</th>\n",
       "      <td>22</td>\n",
       "      <td>0</td>\n",
       "    </tr>\n",
       "    <tr>\n",
       "      <th>13</th>\n",
       "      <td>25</td>\n",
       "      <td>0</td>\n",
       "    </tr>\n",
       "    <tr>\n",
       "      <th>14</th>\n",
       "      <td>47</td>\n",
       "      <td>0</td>\n",
       "    </tr>\n",
       "    <tr>\n",
       "      <th>15</th>\n",
       "      <td>36</td>\n",
       "      <td>1</td>\n",
       "    </tr>\n",
       "    <tr>\n",
       "      <th>16</th>\n",
       "      <td>20</td>\n",
       "      <td>1</td>\n",
       "    </tr>\n",
       "    <tr>\n",
       "      <th>17</th>\n",
       "      <td>56</td>\n",
       "      <td>1</td>\n",
       "    </tr>\n",
       "    <tr>\n",
       "      <th>18</th>\n",
       "      <td>56</td>\n",
       "      <td>0</td>\n",
       "    </tr>\n",
       "    <tr>\n",
       "      <th>19</th>\n",
       "      <td>34</td>\n",
       "      <td>1</td>\n",
       "    </tr>\n",
       "  </tbody>\n",
       "</table>\n",
       "</div>"
      ],
      "text/plain": [
       "    age  response\n",
       "0    23         0\n",
       "1    45         0\n",
       "2    44         0\n",
       "3    20         0\n",
       "4    49         0\n",
       "5    56         1\n",
       "6    55         1\n",
       "7    43         1\n",
       "8    23         0\n",
       "9    67         0\n",
       "10   54         0\n",
       "11   43         0\n",
       "12   22         0\n",
       "13   25         0\n",
       "14   47         0\n",
       "15   36         1\n",
       "16   20         1\n",
       "17   56         1\n",
       "18   56         0\n",
       "19   34         1"
      ]
     },
     "execution_count": 2,
     "metadata": {},
     "output_type": "execute_result"
    }
   ],
   "source": [
    "data = pd.read_csv('Data/xgboost_classification.csv', sep=';')\n",
    "data"
   ]
  },
  {
   "cell_type": "code",
   "execution_count": 3,
   "metadata": {},
   "outputs": [],
   "source": [
    "y = data.pop('response').values\n",
    "X = data"
   ]
  },
  {
   "cell_type": "code",
   "execution_count": 4,
   "metadata": {},
   "outputs": [
    {
     "name": "stdout",
     "output_type": "stream",
     "text": [
      "[14:27:04] src/tree/updater_prune.cc:74: tree pruning end, 1 roots, 2 extra nodes, 0 pruned nodes, max_depth=1\n",
      "[0.28224894 0.28224894 0.28224894 0.28224894 0.28224894 0.59868765\n",
      " 0.59868765 0.28224894 0.28224894 0.59868765 0.28224894 0.28224894\n",
      " 0.28224894 0.28224894 0.28224894 0.28224894 0.28224894 0.59868765\n",
      " 0.59868765 0.28224894] \n",
      "\n",
      " 0:[age<55] yes=1,no=2,missing=1\n",
      "\t1:leaf=-0.933333337\n",
      "\t2:leaf=0.400000006\n",
      "\n"
     ]
    }
   ],
   "source": [
    "dtrain = xgboost.DMatrix(data = X, label = y)\n",
    "params = {'max_depth': 1, 'eta': 1.0, 'objective': 'binary:logistic',\n",
    "          'lambda': 0, 'base_score': 0.5}\n",
    "model = xgboost.train(params=params, num_boost_round=1, dtrain=dtrain)\n",
    "pr = model.predict(dtrain)\n",
    "print(pr, '\\n\\n', model.get_dump()[0])"
   ]
  },
  {
   "cell_type": "code",
   "execution_count": 5,
   "metadata": {},
   "outputs": [
    {
     "name": "stdout",
     "output_type": "stream",
     "text": [
      "прогноз для age <55 0.28224894229945025\n",
      "прогноз для age >=55 0.5986876615540165\n"
     ]
    }
   ],
   "source": [
    "def sigmoid(x):\n",
    "    return 1 / (1 + np.exp(-x))\n",
    "\n",
    "base_score = 0.5\n",
    "leaf_score_for_less_than_55 = -0.933333337\n",
    "leaf_score_for_55_and_more = 0.400000006\n",
    "\n",
    "prediction_for_less_than_55 = sigmoid(\n",
    "    np.log(base_score / (1 - base_score)) + leaf_score_for_less_than_55)\n",
    "prediction_for_55_and_more = sigmoid(\n",
    "    np.log(base_score / (1 - base_score)) + leaf_score_for_55_and_more)\n",
    "print('прогноз для age <55', prediction_for_less_than_55)\n",
    "print('прогноз для age >=55', prediction_for_55_and_more)"
   ]
  },
  {
   "cell_type": "code",
   "execution_count": 6,
   "metadata": {},
   "outputs": [
    {
     "name": "stdout",
     "output_type": "stream",
     "text": [
      "[14:27:04] src/tree/updater_prune.cc:74: tree pruning end, 1 roots, 2 extra nodes, 0 pruned nodes, max_depth=1\n",
      "[14:27:04] src/tree/updater_prune.cc:74: tree pruning end, 1 roots, 2 extra nodes, 0 pruned nodes, max_depth=1\n",
      "[0.41287592 0.1725412  0.1725412  0.41287592 0.1725412  0.44166934\n",
      " 0.44166934 0.41287592 0.41287592 0.44166934 0.1725412  0.41287592\n",
      " 0.41287592 0.41287592 0.1725412  0.41287592 0.41287592 0.44166934\n",
      " 0.44166934 0.41287592]\n",
      "0:[age<55] yes=1,no=2,missing=1\n",
      "\t1:leaf=-0.933333337\n",
      "\t2:leaf=0.400000006\n",
      "\n",
      "0:[age<44] yes=1,no=2,missing=1\n",
      "\t1:leaf=0.581244171\n",
      "\t2:leaf=-0.634389997\n",
      "\n"
     ]
    }
   ],
   "source": [
    "model = xgboost.train(params=params, num_boost_round=2, dtrain=dtrain)\n",
    "pr = model.predict(dtrain)\n",
    "print(pr)\n",
    "for line in model.get_dump(): \n",
    "    print(line)"
   ]
  },
  {
   "cell_type": "code",
   "execution_count": 7,
   "metadata": {},
   "outputs": [
    {
     "name": "stdout",
     "output_type": "stream",
     "text": [
      "прогноз для наблюдения с индексом 0 0.4128758956142221\n",
      "прогноз для наблюдения с индексом 1 0.17254119071402557\n"
     ]
    }
   ],
   "source": [
    "base_score = 0.5\n",
    "leaf_score_for_less_than_55 = -0.933333337\n",
    "leaf_score_for_55_and_more = 0.400000006\n",
    "\n",
    "leaf_score_for_less_than_44 = 0.581244171\n",
    "leaf_score_for_44_and_more = -0.634389997\n",
    "\n",
    "prediction_for_obs_0 = sigmoid(\n",
    "    np.log(base_score / (1 - base_score)) + (leaf_score_for_less_than_55 + leaf_score_for_less_than_44))\n",
    "prediction_for_obs_1 = sigmoid(\n",
    "    np.log(base_score / (1 - base_score)) + (leaf_score_for_less_than_55 + leaf_score_for_44_and_more))\n",
    "print('прогноз для наблюдения с индексом 0', prediction_for_obs_0)\n",
    "print('прогноз для наблюдения с индексом 1', prediction_for_obs_1)"
   ]
  },
  {
   "cell_type": "code",
   "execution_count": 8,
   "metadata": {},
   "outputs": [
    {
     "data": {
      "text/html": [
       "<div>\n",
       "<style scoped>\n",
       "    .dataframe tbody tr th:only-of-type {\n",
       "        vertical-align: middle;\n",
       "    }\n",
       "\n",
       "    .dataframe tbody tr th {\n",
       "        vertical-align: top;\n",
       "    }\n",
       "\n",
       "    .dataframe thead th {\n",
       "        text-align: right;\n",
       "    }\n",
       "</style>\n",
       "<table border=\"1\" class=\"dataframe\">\n",
       "  <thead>\n",
       "    <tr style=\"text-align: right;\">\n",
       "      <th></th>\n",
       "      <th>age</th>\n",
       "      <th>days_of_delinq</th>\n",
       "    </tr>\n",
       "  </thead>\n",
       "  <tbody>\n",
       "    <tr>\n",
       "      <th>0</th>\n",
       "      <td>23</td>\n",
       "      <td>6</td>\n",
       "    </tr>\n",
       "    <tr>\n",
       "      <th>1</th>\n",
       "      <td>45</td>\n",
       "      <td>8</td>\n",
       "    </tr>\n",
       "    <tr>\n",
       "      <th>2</th>\n",
       "      <td>44</td>\n",
       "      <td>10</td>\n",
       "    </tr>\n",
       "    <tr>\n",
       "      <th>3</th>\n",
       "      <td>20</td>\n",
       "      <td>12</td>\n",
       "    </tr>\n",
       "    <tr>\n",
       "      <th>4</th>\n",
       "      <td>49</td>\n",
       "      <td>15</td>\n",
       "    </tr>\n",
       "    <tr>\n",
       "      <th>5</th>\n",
       "      <td>56</td>\n",
       "      <td>10</td>\n",
       "    </tr>\n",
       "    <tr>\n",
       "      <th>6</th>\n",
       "      <td>55</td>\n",
       "      <td>14</td>\n",
       "    </tr>\n",
       "    <tr>\n",
       "      <th>7</th>\n",
       "      <td>43</td>\n",
       "      <td>20</td>\n",
       "    </tr>\n",
       "    <tr>\n",
       "      <th>8</th>\n",
       "      <td>23</td>\n",
       "      <td>11</td>\n",
       "    </tr>\n",
       "    <tr>\n",
       "      <th>9</th>\n",
       "      <td>67</td>\n",
       "      <td>6</td>\n",
       "    </tr>\n",
       "    <tr>\n",
       "      <th>10</th>\n",
       "      <td>54</td>\n",
       "      <td>9</td>\n",
       "    </tr>\n",
       "    <tr>\n",
       "      <th>11</th>\n",
       "      <td>43</td>\n",
       "      <td>12</td>\n",
       "    </tr>\n",
       "    <tr>\n",
       "      <th>12</th>\n",
       "      <td>22</td>\n",
       "      <td>15</td>\n",
       "    </tr>\n",
       "    <tr>\n",
       "      <th>13</th>\n",
       "      <td>25</td>\n",
       "      <td>20</td>\n",
       "    </tr>\n",
       "    <tr>\n",
       "      <th>14</th>\n",
       "      <td>47</td>\n",
       "      <td>22</td>\n",
       "    </tr>\n",
       "    <tr>\n",
       "      <th>15</th>\n",
       "      <td>36</td>\n",
       "      <td>16</td>\n",
       "    </tr>\n",
       "    <tr>\n",
       "      <th>16</th>\n",
       "      <td>20</td>\n",
       "      <td>7</td>\n",
       "    </tr>\n",
       "    <tr>\n",
       "      <th>17</th>\n",
       "      <td>56</td>\n",
       "      <td>4</td>\n",
       "    </tr>\n",
       "    <tr>\n",
       "      <th>18</th>\n",
       "      <td>56</td>\n",
       "      <td>4</td>\n",
       "    </tr>\n",
       "    <tr>\n",
       "      <th>19</th>\n",
       "      <td>34</td>\n",
       "      <td>1</td>\n",
       "    </tr>\n",
       "  </tbody>\n",
       "</table>\n",
       "</div>"
      ],
      "text/plain": [
       "    age  days_of_delinq\n",
       "0    23               6\n",
       "1    45               8\n",
       "2    44              10\n",
       "3    20              12\n",
       "4    49              15\n",
       "5    56              10\n",
       "6    55              14\n",
       "7    43              20\n",
       "8    23              11\n",
       "9    67               6\n",
       "10   54               9\n",
       "11   43              12\n",
       "12   22              15\n",
       "13   25              20\n",
       "14   47              22\n",
       "15   36              16\n",
       "16   20               7\n",
       "17   56               4\n",
       "18   56               4\n",
       "19   34               1"
      ]
     },
     "execution_count": 8,
     "metadata": {},
     "output_type": "execute_result"
    }
   ],
   "source": [
    "data = pd.read_csv('Data/xgboost_regression.csv', sep=';')\n",
    "data"
   ]
  },
  {
   "cell_type": "code",
   "execution_count": 9,
   "metadata": {},
   "outputs": [],
   "source": [
    "y = data.pop('days_of_delinq').values\n",
    "X = data"
   ]
  },
  {
   "cell_type": "code",
   "execution_count": 10,
   "metadata": {},
   "outputs": [
    {
     "name": "stdout",
     "output_type": "stream",
     "text": [
      "[14:27:04] src/tree/updater_prune.cc:74: tree pruning end, 1 roots, 2 extra nodes, 0 pruned nodes, max_depth=1\n",
      "[12.375 12.375 12.375 12.375 12.375  6.    12.375 12.375 12.375  6.\n",
      " 12.375 12.375 12.375 12.375 12.375 12.375 12.375  6.     6.    12.375] \n",
      "\n",
      " 0:[age<56] yes=1,no=2,missing=1\n",
      "\t1:leaf=11.875\n",
      "\t2:leaf=5.5\n",
      "\n"
     ]
    }
   ],
   "source": [
    "dtrain = xgboost.DMatrix(data = X, label = y)\n",
    "params = {'max_depth': 1, 'eta': 1.0, 'objective': 'reg:linear', 'lambda': 0, 'base_score': 0.5}\n",
    "model = xgboost.train(params=params, num_boost_round=1, dtrain=dtrain)\n",
    "pr = model.predict(dtrain)\n",
    "print(pr, '\\n\\n', model.get_dump()[0])"
   ]
  },
  {
   "cell_type": "code",
   "execution_count": 11,
   "metadata": {},
   "outputs": [
    {
     "name": "stdout",
     "output_type": "stream",
     "text": [
      "прогноз для age <56 12.375\n",
      "прогноз для age >=56 6.0\n"
     ]
    }
   ],
   "source": [
    "base_score = 0.5\n",
    "leaf_score_for_less_than_56 = 11.875\n",
    "leaf_score_for_56_and_more = 5.5\n",
    "prediction_for_less_than_56 = base_score + leaf_score_for_less_than_56\n",
    "prediction_for_56_and_more = base_score + leaf_score_for_56_and_more\n",
    "print('прогноз для age <56', prediction_for_less_than_56)\n",
    "print('прогноз для age >=56', prediction_for_56_and_more)"
   ]
  },
  {
   "cell_type": "code",
   "execution_count": 12,
   "metadata": {},
   "outputs": [
    {
     "name": "stdout",
     "output_type": "stream",
     "text": [
      "[14:27:04] src/tree/updater_prune.cc:74: tree pruning end, 1 roots, 2 extra nodes, 0 pruned nodes, max_depth=1\n",
      "[6.4375 6.4375 6.4375 6.4375 6.4375 3.25   6.4375 6.4375 6.4375 3.25\n",
      " 6.4375 6.4375 6.4375 6.4375 6.4375 6.4375 6.4375 3.25   3.25   6.4375] \n",
      "\n",
      " 0:[age<56] yes=1,no=2,missing=1\n",
      "\t1:leaf=5.9375\n",
      "\t2:leaf=2.75\n",
      "\n"
     ]
    }
   ],
   "source": [
    "params = {'max_depth': 1, 'eta': 0.5, 'objective': 'reg:linear', 'lambda': 0, 'base_score': 0.5}\n",
    "model = xgboost.train(params=params, num_boost_round=1, dtrain=dtrain)\n",
    "pr = model.predict(dtrain)\n",
    "print(pr, '\\n\\n', model.get_dump()[0])"
   ]
  },
  {
   "cell_type": "code",
   "execution_count": 13,
   "metadata": {},
   "outputs": [
    {
     "name": "stdout",
     "output_type": "stream",
     "text": [
      "прогноз для age <56 6.4375\n",
      "прогноз для age >=56 3.25\n"
     ]
    }
   ],
   "source": [
    "base_score = 0.5\n",
    "leaf_score_for_less_than_56 = 5.9375\n",
    "leaf_score_for_56_and_more = 2.75\n",
    "prediction_for_less_than_56 = base_score + leaf_score_for_less_than_56\n",
    "prediction_for_56_and_more = base_score + leaf_score_for_56_and_more\n",
    "print('прогноз для age <56', prediction_for_less_than_56)\n",
    "print('прогноз для age >=56', prediction_for_56_and_more)"
   ]
  },
  {
   "cell_type": "code",
   "execution_count": 14,
   "metadata": {},
   "outputs": [
    {
     "name": "stdout",
     "output_type": "stream",
     "text": [
      "[14:27:04] src/tree/updater_prune.cc:74: tree pruning end, 1 roots, 2 extra nodes, 0 pruned nodes, max_depth=1\n",
      "[6.3375    6.3375    6.3375    6.3375    6.3375    3.1499999 6.3375\n",
      " 6.3375    6.3375    3.1499999 6.3375    6.3375    6.3375    6.3375\n",
      " 6.3375    6.3375    6.3375    3.1499999 3.1499999 6.3375   ] \n",
      "\n",
      " 0:[age<56] yes=1,no=2,missing=1\n",
      "\t1:leaf=6.0374999\n",
      "\t2:leaf=2.8499999\n",
      "\n"
     ]
    }
   ],
   "source": [
    "params = {'max_depth': 1, 'eta': 0.5, 'objective': 'reg:linear', 'lambda': 0, 'base_score': 0.3}\n",
    "model = xgboost.train(params=params, num_boost_round=1, dtrain=dtrain)\n",
    "pr = model.predict(dtrain)\n",
    "print(pr, '\\n\\n', model.get_dump()[0])"
   ]
  },
  {
   "cell_type": "code",
   "execution_count": 15,
   "metadata": {},
   "outputs": [
    {
     "name": "stdout",
     "output_type": "stream",
     "text": [
      "прогноз для age <56 6.3374999\n",
      "прогноз для age >=56 3.1499998999999996\n"
     ]
    }
   ],
   "source": [
    "base_score = 0.3\n",
    "leaf_score_for_less_than_56 = 6.0374999\n",
    "leaf_score_for_56_and_more = 2.8499999\n",
    "prediction_for_less_than_56 = base_score + leaf_score_for_less_than_56\n",
    "prediction_for_56_and_more = base_score + leaf_score_for_56_and_more\n",
    "print('прогноз для age <56', prediction_for_less_than_56)\n",
    "print('прогноз для age >=56', prediction_for_56_and_more)"
   ]
  },
  {
   "cell_type": "code",
   "execution_count": 16,
   "metadata": {
    "scrolled": true
   },
   "outputs": [
    {
     "name": "stdout",
     "output_type": "stream",
     "text": [
      "[14:27:04] src/tree/updater_prune.cc:74: tree pruning end, 1 roots, 2 extra nodes, 0 pruned nodes, max_depth=1\n",
      "[14:27:04] src/tree/updater_prune.cc:74: tree pruning end, 1 roots, 2 extra nodes, 0 pruned nodes, max_depth=1\n",
      "[10.285714 13.5      13.5      10.285714 13.5       7.125    13.5\n",
      " 13.5      10.285714  7.125    13.5      13.5      10.285714 10.285714\n",
      " 13.5      13.5      10.285714  7.125     7.125    10.285714]\n",
      "0:[age<56] yes=1,no=2,missing=1\n",
      "\t1:leaf=11.875\n",
      "\t2:leaf=5.5\n",
      "\n",
      "0:[age<35] yes=1,no=2,missing=1\n",
      "\t1:leaf=-2.08928561\n",
      "\t2:leaf=1.125\n",
      "\n"
     ]
    }
   ],
   "source": [
    "params = {'max_depth': 1, 'eta': 1.0, 'objective': 'reg:linear', 'lambda': 0, 'base_score': 0.5}\n",
    "model = xgboost.train(params=params, num_boost_round=2, dtrain=dtrain)\n",
    "pr = model.predict(dtrain)\n",
    "print(pr)\n",
    "for line in model.get_dump(): \n",
    "    print(line)"
   ]
  },
  {
   "cell_type": "code",
   "execution_count": 17,
   "metadata": {},
   "outputs": [
    {
     "name": "stdout",
     "output_type": "stream",
     "text": [
      "прогноз для наблюдения с индексом 0 10.285714389999999\n",
      "прогноз для наблюдения с индексом 1 13.5\n"
     ]
    }
   ],
   "source": [
    "base_score = 0.5\n",
    "leaf_score_for_less_than_56_tree1 = 11.875\n",
    "leaf_score_for_56_and_more_tree1 = 5.5\n",
    "leaf_score_for_less_than_35_tree2 = -2.08928561\n",
    "leaf_score_for_35_and_more_tree2 = 1.125\n",
    "prediction_for_obs0 = base_score + leaf_score_for_less_than_56_tree1 + leaf_score_for_less_than_35_tree2\n",
    "prediction_for_obs1 = base_score + leaf_score_for_less_than_56_tree1 + leaf_score_for_35_and_more_tree2\n",
    "print('прогноз для наблюдения с индексом 0', prediction_for_obs0)\n",
    "print('прогноз для наблюдения с индексом 1', prediction_for_obs1)"
   ]
  },
  {
   "cell_type": "code",
   "execution_count": 18,
   "metadata": {},
   "outputs": [
    {
     "name": "stdout",
     "output_type": "stream",
     "text": [
      "[14:27:04] src/tree/updater_prune.cc:74: tree pruning end, 1 roots, 2 extra nodes, 0 pruned nodes, max_depth=1\n",
      "[14:27:04] src/tree/updater_prune.cc:74: tree pruning end, 1 roots, 2 extra nodes, 0 pruned nodes, max_depth=1\n",
      "[10.375893  13.092212  13.092212  10.375893  13.092212   7.3547115\n",
      " 13.092212  13.092212  10.375893   7.3547115 13.092212  13.092212\n",
      " 10.375893  10.375893  13.092212  13.092212  10.375893   7.3547115\n",
      "  7.3547115 10.375893 ]\n",
      "0:[age<56] yes=1,no=2,missing=1\n",
      "\t1:leaf=10.6875\n",
      "\t2:leaf=4.94999981\n",
      "\n",
      "0:[age<35] yes=1,no=2,missing=1\n",
      "\t1:leaf=-0.811607122\n",
      "\t2:leaf=1.90471148\n",
      "\n"
     ]
    }
   ],
   "source": [
    "params = {'max_depth': 1, 'eta': 0.9, 'objective': 'reg:linear', 'lambda': 0, 'base_score': 0.5}\n",
    "model = xgboost.train(params=params, num_boost_round=2, dtrain=dtrain)\n",
    "pr = model.predict(dtrain)\n",
    "print(pr)\n",
    "for line in model.get_dump(): \n",
    "    print(line)"
   ]
  },
  {
   "cell_type": "code",
   "execution_count": 19,
   "metadata": {},
   "outputs": [
    {
     "name": "stdout",
     "output_type": "stream",
     "text": [
      "прогноз для наблюдения с индексом 0 10.375892878\n",
      "прогноз для наблюдения с индексом 1 13.09221148\n"
     ]
    }
   ],
   "source": [
    "# поскольку eta = 0.9, значения листьев умножаются на 0.9,\n",
    "# например, 11,875 x 0,9 = 10,6875\n",
    "\n",
    "base_score = 0.5\n",
    "leaf_score_for_less_than_56_tree1 = 10.6875\n",
    "leaf_score_for_56_and_more_tree1 = 4.94999981\n",
    "leaf_score_for_less_than_35_tree2 = -0.811607122\n",
    "leaf_score_for_35_and_more_tree2 = 1.90471148\n",
    "prediction_for_obs0 = base_score + leaf_score_for_less_than_56_tree1 + leaf_score_for_less_than_35_tree2\n",
    "prediction_for_obs1 = base_score + leaf_score_for_less_than_56_tree1 + leaf_score_for_35_and_more_tree2\n",
    "print('прогноз для наблюдения с индексом 0', prediction_for_obs0)\n",
    "print('прогноз для наблюдения с индексом 1', prediction_for_obs1)"
   ]
  },
  {
   "cell_type": "code",
   "execution_count": 20,
   "metadata": {},
   "outputs": [
    {
     "name": "stdout",
     "output_type": "stream",
     "text": [
      "[14:27:04] src/tree/updater_prune.cc:74: tree pruning end, 1 roots, 4 extra nodes, 0 pruned nodes, max_depth=2\n",
      "[5.392857 7.25     7.25     5.392857 7.25     3.25     7.25     7.25\n",
      " 5.392857 3.25     7.25     7.25     5.392857 5.392857 7.25     7.25\n",
      " 5.392857 3.25     3.25     5.392857] \n",
      "\n",
      " 0:[age<56] yes=1,no=2,missing=1\n",
      "\t1:[age<35] yes=3,no=4,missing=3\n",
      "\t\t3:leaf=4.89285707\n",
      "\t\t4:leaf=6.75\n",
      "\t2:leaf=2.75\n",
      "\n"
     ]
    }
   ],
   "source": [
    "params = {'max_depth': 2, 'eta': 0.5, 'objective': 'reg:linear', 'lambda': 0, 'base_score': 0.5}\n",
    "model = xgboost.train(params=params, num_boost_round=1, dtrain=dtrain)\n",
    "pr = model.predict(dtrain)\n",
    "print(pr, '\\n\\n', model.get_dump()[0])"
   ]
  },
  {
   "cell_type": "code",
   "execution_count": 21,
   "metadata": {},
   "outputs": [
    {
     "name": "stdout",
     "output_type": "stream",
     "text": [
      "прогноз для age < 35 5.39285707\n",
      "прогноз для age 35-55 7.25\n",
      "прогноз для age >=56 3.25\n"
     ]
    }
   ],
   "source": [
    "base_score = 0.5\n",
    "leaf_score_for_less_than_35 = 4.89285707\n",
    "leaf_score_for_35_55 = 6.75\n",
    "leaf_score_for_56_and_more = 2.75\n",
    "prediction_for_less_than_35 = base_score + leaf_score_for_less_than_35\n",
    "prediction_for_35_55 = base_score + leaf_score_for_35_55\n",
    "prediction_for_56_and_more = base_score + leaf_score_for_56_and_more\n",
    "print('прогноз для age < 35', prediction_for_less_than_35)\n",
    "print('прогноз для age 35-55', prediction_for_35_55)\n",
    "print('прогноз для age >=56', prediction_for_56_and_more)"
   ]
  },
  {
   "cell_type": "code",
   "execution_count": null,
   "metadata": {},
   "outputs": [],
   "source": []
  }
 ],
 "metadata": {
  "kernelspec": {
   "display_name": "Python 3",
   "language": "python",
   "name": "python3"
  },
  "language_info": {
   "codemirror_mode": {
    "name": "ipython",
    "version": 3
   },
   "file_extension": ".py",
   "mimetype": "text/x-python",
   "name": "python",
   "nbconvert_exporter": "python",
   "pygments_lexer": "ipython3",
   "version": "3.7.1"
  }
 },
 "nbformat": 4,
 "nbformat_minor": 2
}
