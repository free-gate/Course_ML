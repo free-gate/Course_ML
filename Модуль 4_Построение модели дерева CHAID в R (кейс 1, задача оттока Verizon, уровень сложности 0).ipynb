{
 "cells": [
  {
   "attachments": {},
   "cell_type": "markdown",
   "metadata": {},
   "source": [
    "# Этап I. Построение модели дерева CHAID на обучающей выборке - части исторической выборки и ее проверка на контрольной выборке - части исторической выборки"
   ]
  },
  {
   "cell_type": "markdown",
   "metadata": {},
   "source": [
    "## I.1. Загрузка данных"
   ]
  },
  {
   "cell_type": "code",
   "execution_count": 1,
   "metadata": {},
   "outputs": [],
   "source": [
    "# задаем рабочую директорию\n",
    "setwd(\"/Users/artemgruzdev/Course_ML/Data\")"
   ]
  },
  {
   "cell_type": "code",
   "execution_count": 2,
   "metadata": {},
   "outputs": [],
   "source": [
    "# отключаем предупреждения\n",
    "options(warn = -1)\n",
    "\n",
    "# считываем CSV-файл в датафрейм data\n",
    "data <- read.csv2(\"Churn_Verizon.csv\", sep = \";\", fileEncoding = \"cp1251\")"
   ]
  },
  {
   "cell_type": "markdown",
   "metadata": {},
   "source": [
    "## I.2. Фиксация пустых строковых значений как пропусков"
   ]
  },
  {
   "cell_type": "code",
   "execution_count": 3,
   "metadata": {
    "scrolled": false
   },
   "outputs": [
    {
     "data": {
      "text/html": [
       "<table>\n",
       "<thead><tr><th scope=col>longdist</th><th scope=col>local</th><th scope=col>int_disc</th><th scope=col>billtype</th><th scope=col>pay</th><th scope=col>gender</th><th scope=col>marital</th><th scope=col>income</th><th scope=col>agecat</th><th scope=col>churn</th></tr></thead>\n",
       "<tbody>\n",
       "\t<tr><td>&lt;2                                           </td><td>&lt;8                                           </td><td>Нет                                             </td><td>Бюджетный                                       </td><td><span style=white-space:pre-wrap>CC  </span>    </td><td>Мужской                                         </td><td><span style=white-space:pre-wrap>Женат   </span></td><td>77680.0                                         </td><td>&lt;31                                          </td><td>1                                               </td></tr>\n",
       "\t<tr><td><span style=white-space:pre-wrap>  </span>      </td><td>&lt;8                                           </td><td>Нет                                             </td><td>Бесплатный                                      </td><td><span style=white-space:pre-wrap>CC  </span>    </td><td>Мужской                                         </td><td><span style=white-space:pre-wrap>Женат   </span></td><td>37111.5                                         </td><td>&lt;31                                          </td><td>1                                               </td></tr>\n",
       "\t<tr><td>&lt;2                                             </td><td>&lt;8                                             </td><td>Нет                                               </td><td><span style=white-space:pre-wrap>          </span></td><td><span style=white-space:pre-wrap>CC  </span>      </td><td>Мужской                                           </td><td><span style=white-space:pre-wrap>Женат   </span>  </td><td><span style=white-space:pre-wrap>     NA</span>   </td><td><span style=white-space:pre-wrap>   </span>       </td><td>1                                                 </td></tr>\n",
       "\t<tr><td>&lt;2                                          </td><td>&lt;8                                          </td><td><span style=white-space:pre-wrap>   </span>    </td><td>Бесплатный                                     </td><td><span style=white-space:pre-wrap>CH  </span>   </td><td>Мужской                                        </td><td>Одинокий                                       </td><td><span style=white-space:pre-wrap>     NA</span></td><td>&lt;31                                         </td><td>0                                              </td></tr>\n",
       "\t<tr><td>&lt;2                                          </td><td><span style=white-space:pre-wrap>  </span>     </td><td>Нет                                            </td><td>Бесплатный                                     </td><td>Auto                                           </td><td><span style=white-space:pre-wrap>       </span></td><td>Одинокий                                       </td><td>16829.6                                        </td><td>&lt;31                                         </td><td>1                                              </td></tr>\n",
       "\t<tr><td><span style=white-space:pre-wrap>  </span>  </td><td>&lt;8                                       </td><td>Нет                                         </td><td>Бесплатный                                  </td><td><span style=white-space:pre-wrap>    </span></td><td>Женский                                     </td><td>Одинокий                                    </td><td>57272.7                                     </td><td>&lt;31                                      </td><td>1                                           </td></tr>\n",
       "\t<tr><td><span style=white-space:pre-wrap>  </span>      </td><td>&lt;8                                           </td><td>Нет                                             </td><td>Бюджетный                                       </td><td><span style=white-space:pre-wrap>    </span>    </td><td>Мужской                                         </td><td><span style=white-space:pre-wrap>Женат   </span></td><td><span style=white-space:pre-wrap>     NA</span> </td><td>&lt;31                                          </td><td>1                                               </td></tr>\n",
       "\t<tr><td>&lt;2                                           </td><td>&lt;8                                           </td><td>Нет                                             </td><td>Бесплатный                                      </td><td>Auto                                            </td><td>Мужской                                         </td><td><span style=white-space:pre-wrap>        </span></td><td><span style=white-space:pre-wrap>     NA</span> </td><td>&lt;31                                          </td><td>1                                               </td></tr>\n",
       "\t<tr><td>&lt;2                                             </td><td>&lt;8                                             </td><td>Да                                                </td><td><span style=white-space:pre-wrap>          </span></td><td><span style=white-space:pre-wrap>CH  </span>      </td><td>Мужской                                           </td><td>Одинокий                                          </td><td>92167.3                                           </td><td>&lt;31                                            </td><td>1                                                 </td></tr>\n",
       "\t<tr><td>&lt;2                                           </td><td>&lt;8                                           </td><td>Нет                                             </td><td>Бесплатный                                      </td><td><span style=white-space:pre-wrap>CC  </span>    </td><td>Мужской                                         </td><td><span style=white-space:pre-wrap>Женат   </span></td><td>37135.5                                         </td><td>&lt;31                                          </td><td>1                                               </td></tr>\n",
       "</tbody>\n",
       "</table>\n"
      ],
      "text/latex": [
       "\\begin{tabular}{r|llllllllll}\n",
       " longdist & local & int\\_disc & billtype & pay & gender & marital & income & agecat & churn\\\\\n",
       "\\hline\n",
       "\t <2         & <8         & Нет        & Бюджетный  & CC         & Мужской    & Женат      & 77680.0    & <31        & 1         \\\\\n",
       "\t            & <8         & Нет        & Бесплатный & CC         & Мужской    & Женат      & 37111.5    & <31        & 1         \\\\\n",
       "\t <2         & <8         & Нет        &            & CC         & Мужской    & Женат      &      NA    &            & 1         \\\\\n",
       "\t <2         & <8         &            & Бесплатный & CH         & Мужской    & Одинокий   &      NA    & <31        & 0         \\\\\n",
       "\t <2         &            & Нет        & Бесплатный & Auto       &            & Одинокий   & 16829.6    & <31        & 1         \\\\\n",
       "\t            & <8         & Нет        & Бесплатный &            & Женский    & Одинокий   & 57272.7    & <31        & 1         \\\\\n",
       "\t            & <8         & Нет        & Бюджетный  &            & Мужской    & Женат      &      NA    & <31        & 1         \\\\\n",
       "\t <2         & <8         & Нет        & Бесплатный & Auto       & Мужской    &            &      NA    & <31        & 1         \\\\\n",
       "\t <2         & <8         & Да         &            & CH         & Мужской    & Одинокий   & 92167.3    & <31        & 1         \\\\\n",
       "\t <2         & <8         & Нет        & Бесплатный & CC         & Мужской    & Женат      & 37135.5    & <31        & 1         \\\\\n",
       "\\end{tabular}\n"
      ],
      "text/markdown": [
       "\n",
       "longdist | local | int_disc | billtype | pay | gender | marital | income | agecat | churn | \n",
       "|---|---|---|---|---|---|---|---|---|---|\n",
       "| <2         | <8         | Нет        | Бюджетный  | CC         | Мужской    | Женат      | 77680.0    | <31        | 1          | \n",
       "|            | <8         | Нет        | Бесплатный | CC         | Мужской    | Женат      | 37111.5    | <31        | 1          | \n",
       "| <2         | <8         | Нет        |            | CC         | Мужской    | Женат      |      NA    |            | 1          | \n",
       "| <2         | <8         |            | Бесплатный | CH         | Мужской    | Одинокий   |      NA    | <31        | 0          | \n",
       "| <2         |            | Нет        | Бесплатный | Auto       |            | Одинокий   | 16829.6    | <31        | 1          | \n",
       "|            | <8         | Нет        | Бесплатный |            | Женский    | Одинокий   | 57272.7    | <31        | 1          | \n",
       "|            | <8         | Нет        | Бюджетный  |            | Мужской    | Женат      |      NA    | <31        | 1          | \n",
       "| <2         | <8         | Нет        | Бесплатный | Auto       | Мужской    |            |      NA    | <31        | 1          | \n",
       "| <2         | <8         | Да         |            | CH         | Мужской    | Одинокий   | 92167.3    | <31        | 1          | \n",
       "| <2         | <8         | Нет        | Бесплатный | CC         | Мужской    | Женат      | 37135.5    | <31        | 1          | \n",
       "\n",
       "\n"
      ],
      "text/plain": [
       "   longdist local int_disc billtype   pay  gender  marital  income  agecat\n",
       "1  <2       <8    Нет      Бюджетный  CC   Мужской Женат    77680.0 <31   \n",
       "2           <8    Нет      Бесплатный CC   Мужской Женат    37111.5 <31   \n",
       "3  <2       <8    Нет                 CC   Мужской Женат         NA       \n",
       "4  <2       <8             Бесплатный CH   Мужской Одинокий      NA <31   \n",
       "5  <2             Нет      Бесплатный Auto         Одинокий 16829.6 <31   \n",
       "6           <8    Нет      Бесплатный      Женский Одинокий 57272.7 <31   \n",
       "7           <8    Нет      Бюджетный       Мужской Женат         NA <31   \n",
       "8  <2       <8    Нет      Бесплатный Auto Мужской               NA <31   \n",
       "9  <2       <8    Да                  CH   Мужской Одинокий 92167.3 <31   \n",
       "10 <2       <8    Нет      Бесплатный CC   Мужской Женат    37135.5 <31   \n",
       "   churn\n",
       "1  1    \n",
       "2  1    \n",
       "3  1    \n",
       "4  0    \n",
       "5  1    \n",
       "6  1    \n",
       "7  1    \n",
       "8  1    \n",
       "9  1    \n",
       "10 1    "
      ]
     },
     "metadata": {},
     "output_type": "display_data"
    }
   ],
   "source": [
    "# смотрим первые 10 наблюдений датафрейма data\n",
    "head(data, 10)"
   ]
  },
  {
   "cell_type": "code",
   "execution_count": 4,
   "metadata": {},
   "outputs": [
    {
     "data": {
      "text/html": [
       "4"
      ],
      "text/latex": [
       "4"
      ],
      "text/markdown": [
       "4"
      ],
      "text/plain": [
       "[1] 4"
      ]
     },
     "metadata": {},
     "output_type": "display_data"
    }
   ],
   "source": [
    "# выводим количество пропусков по переменной income \n",
    "sum(is.na(data$income))"
   ]
  },
  {
   "cell_type": "code",
   "execution_count": 5,
   "metadata": {},
   "outputs": [
    {
     "data": {
      "text/html": [
       "0"
      ],
      "text/latex": [
       "0"
      ],
      "text/markdown": [
       "0"
      ],
      "text/plain": [
       "[1] 0"
      ]
     },
     "metadata": {},
     "output_type": "display_data"
    }
   ],
   "source": [
    "# выводим количество пропусков по переменной pay \n",
    "sum(is.na(data$pay))"
   ]
  },
  {
   "cell_type": "code",
   "execution_count": 6,
   "metadata": {},
   "outputs": [],
   "source": [
    "# помечаем пустые строковые значения как пропуски \n",
    "is.na(data) <- data == ''"
   ]
  },
  {
   "cell_type": "code",
   "execution_count": 7,
   "metadata": {},
   "outputs": [
    {
     "data": {
      "text/html": [
       "<table>\n",
       "<thead><tr><th scope=col>longdist</th><th scope=col>local</th><th scope=col>int_disc</th><th scope=col>billtype</th><th scope=col>pay</th><th scope=col>gender</th><th scope=col>marital</th><th scope=col>income</th><th scope=col>agecat</th><th scope=col>churn</th></tr></thead>\n",
       "<tbody>\n",
       "\t<tr><td>&lt;2                                           </td><td>&lt;8                                           </td><td>Нет                                             </td><td>Бюджетный                                       </td><td><span style=white-space:pre-wrap>CC  </span>    </td><td>Мужской                                         </td><td><span style=white-space:pre-wrap>Женат   </span></td><td>77680.0                                         </td><td>&lt;31                                          </td><td>1                                               </td></tr>\n",
       "\t<tr><td>NA                                              </td><td>&lt;8                                           </td><td>Нет                                             </td><td>Бесплатный                                      </td><td><span style=white-space:pre-wrap>CC  </span>    </td><td>Мужской                                         </td><td><span style=white-space:pre-wrap>Женат   </span></td><td>37111.5                                         </td><td>&lt;31                                          </td><td>1                                               </td></tr>\n",
       "\t<tr><td>&lt;2                                             </td><td>&lt;8                                             </td><td>Нет                                               </td><td><span style=white-space:pre-wrap>NA        </span></td><td><span style=white-space:pre-wrap>CC  </span>      </td><td>Мужской                                           </td><td><span style=white-space:pre-wrap>Женат   </span>  </td><td><span style=white-space:pre-wrap>     NA</span>   </td><td>NA                                                </td><td>1                                                 </td></tr>\n",
       "\t<tr><td>&lt;2                                          </td><td>&lt;8                                          </td><td>NA                                             </td><td>Бесплатный                                     </td><td><span style=white-space:pre-wrap>CH  </span>   </td><td>Мужской                                        </td><td>Одинокий                                       </td><td><span style=white-space:pre-wrap>     NA</span></td><td>&lt;31                                         </td><td>0                                              </td></tr>\n",
       "\t<tr><td>&lt;2                                          </td><td>NA                                             </td><td>Нет                                            </td><td>Бесплатный                                     </td><td>Auto                                           </td><td><span style=white-space:pre-wrap>NA     </span></td><td>Одинокий                                       </td><td>16829.6                                        </td><td>&lt;31                                         </td><td>1                                              </td></tr>\n",
       "\t<tr><td>NA                                          </td><td>&lt;8                                       </td><td>Нет                                         </td><td>Бесплатный                                  </td><td><span style=white-space:pre-wrap>NA  </span></td><td>Женский                                     </td><td>Одинокий                                    </td><td>57272.7                                     </td><td>&lt;31                                      </td><td>1                                           </td></tr>\n",
       "\t<tr><td>NA                                              </td><td>&lt;8                                           </td><td>Нет                                             </td><td>Бюджетный                                       </td><td><span style=white-space:pre-wrap>NA  </span>    </td><td>Мужской                                         </td><td><span style=white-space:pre-wrap>Женат   </span></td><td><span style=white-space:pre-wrap>     NA</span> </td><td>&lt;31                                          </td><td>1                                               </td></tr>\n",
       "\t<tr><td>&lt;2                                           </td><td>&lt;8                                           </td><td>Нет                                             </td><td>Бесплатный                                      </td><td>Auto                                            </td><td>Мужской                                         </td><td><span style=white-space:pre-wrap>NA      </span></td><td><span style=white-space:pre-wrap>     NA</span> </td><td>&lt;31                                          </td><td>1                                               </td></tr>\n",
       "\t<tr><td>&lt;2                                             </td><td>&lt;8                                             </td><td>Да                                                </td><td><span style=white-space:pre-wrap>NA        </span></td><td><span style=white-space:pre-wrap>CH  </span>      </td><td>Мужской                                           </td><td>Одинокий                                          </td><td>92167.3                                           </td><td>&lt;31                                            </td><td>1                                                 </td></tr>\n",
       "\t<tr><td>&lt;2                                           </td><td>&lt;8                                           </td><td>Нет                                             </td><td>Бесплатный                                      </td><td><span style=white-space:pre-wrap>CC  </span>    </td><td>Мужской                                         </td><td><span style=white-space:pre-wrap>Женат   </span></td><td>37135.5                                         </td><td>&lt;31                                          </td><td>1                                               </td></tr>\n",
       "</tbody>\n",
       "</table>\n"
      ],
      "text/latex": [
       "\\begin{tabular}{r|llllllllll}\n",
       " longdist & local & int\\_disc & billtype & pay & gender & marital & income & agecat & churn\\\\\n",
       "\\hline\n",
       "\t <2         & <8         & Нет        & Бюджетный  & CC         & Мужской    & Женат      & 77680.0    & <31        & 1         \\\\\n",
       "\t NA         & <8         & Нет        & Бесплатный & CC         & Мужской    & Женат      & 37111.5    & <31        & 1         \\\\\n",
       "\t <2         & <8         & Нет        & NA         & CC         & Мужской    & Женат      &      NA    & NA         & 1         \\\\\n",
       "\t <2         & <8         & NA         & Бесплатный & CH         & Мужской    & Одинокий   &      NA    & <31        & 0         \\\\\n",
       "\t <2         & NA         & Нет        & Бесплатный & Auto       & NA         & Одинокий   & 16829.6    & <31        & 1         \\\\\n",
       "\t NA         & <8         & Нет        & Бесплатный & NA         & Женский    & Одинокий   & 57272.7    & <31        & 1         \\\\\n",
       "\t NA         & <8         & Нет        & Бюджетный  & NA         & Мужской    & Женат      &      NA    & <31        & 1         \\\\\n",
       "\t <2         & <8         & Нет        & Бесплатный & Auto       & Мужской    & NA         &      NA    & <31        & 1         \\\\\n",
       "\t <2         & <8         & Да         & NA         & CH         & Мужской    & Одинокий   & 92167.3    & <31        & 1         \\\\\n",
       "\t <2         & <8         & Нет        & Бесплатный & CC         & Мужской    & Женат      & 37135.5    & <31        & 1         \\\\\n",
       "\\end{tabular}\n"
      ],
      "text/markdown": [
       "\n",
       "longdist | local | int_disc | billtype | pay | gender | marital | income | agecat | churn | \n",
       "|---|---|---|---|---|---|---|---|---|---|\n",
       "| <2         | <8         | Нет        | Бюджетный  | CC         | Мужской    | Женат      | 77680.0    | <31        | 1          | \n",
       "| NA         | <8         | Нет        | Бесплатный | CC         | Мужской    | Женат      | 37111.5    | <31        | 1          | \n",
       "| <2         | <8         | Нет        | NA         | CC         | Мужской    | Женат      |      NA    | NA         | 1          | \n",
       "| <2         | <8         | NA         | Бесплатный | CH         | Мужской    | Одинокий   |      NA    | <31        | 0          | \n",
       "| <2         | NA         | Нет        | Бесплатный | Auto       | NA         | Одинокий   | 16829.6    | <31        | 1          | \n",
       "| NA         | <8         | Нет        | Бесплатный | NA         | Женский    | Одинокий   | 57272.7    | <31        | 1          | \n",
       "| NA         | <8         | Нет        | Бюджетный  | NA         | Мужской    | Женат      |      NA    | <31        | 1          | \n",
       "| <2         | <8         | Нет        | Бесплатный | Auto       | Мужской    | NA         |      NA    | <31        | 1          | \n",
       "| <2         | <8         | Да         | NA         | CH         | Мужской    | Одинокий   | 92167.3    | <31        | 1          | \n",
       "| <2         | <8         | Нет        | Бесплатный | CC         | Мужской    | Женат      | 37135.5    | <31        | 1          | \n",
       "\n",
       "\n"
      ],
      "text/plain": [
       "   longdist local int_disc billtype   pay  gender  marital  income  agecat\n",
       "1  <2       <8    Нет      Бюджетный  CC   Мужской Женат    77680.0 <31   \n",
       "2  NA       <8    Нет      Бесплатный CC   Мужской Женат    37111.5 <31   \n",
       "3  <2       <8    Нет      NA         CC   Мужской Женат         NA NA    \n",
       "4  <2       <8    NA       Бесплатный CH   Мужской Одинокий      NA <31   \n",
       "5  <2       NA    Нет      Бесплатный Auto NA      Одинокий 16829.6 <31   \n",
       "6  NA       <8    Нет      Бесплатный NA   Женский Одинокий 57272.7 <31   \n",
       "7  NA       <8    Нет      Бюджетный  NA   Мужской Женат         NA <31   \n",
       "8  <2       <8    Нет      Бесплатный Auto Мужской NA            NA <31   \n",
       "9  <2       <8    Да       NA         CH   Мужской Одинокий 92167.3 <31   \n",
       "10 <2       <8    Нет      Бесплатный CC   Мужской Женат    37135.5 <31   \n",
       "   churn\n",
       "1  1    \n",
       "2  1    \n",
       "3  1    \n",
       "4  0    \n",
       "5  1    \n",
       "6  1    \n",
       "7  1    \n",
       "8  1    \n",
       "9  1    \n",
       "10 1    "
      ]
     },
     "metadata": {},
     "output_type": "display_data"
    }
   ],
   "source": [
    "# выводим первые 10 наблюдений датафрейма data \n",
    "head(data, 10)"
   ]
  },
  {
   "cell_type": "code",
   "execution_count": 8,
   "metadata": {},
   "outputs": [
    {
     "data": {
      "text/html": [
       "2"
      ],
      "text/latex": [
       "2"
      ],
      "text/markdown": [
       "2"
      ],
      "text/plain": [
       "[1] 2"
      ]
     },
     "metadata": {},
     "output_type": "display_data"
    }
   ],
   "source": [
    "# выводим количество пропусков по переменной pay \n",
    "sum(is.na(data$pay))"
   ]
  },
  {
   "cell_type": "code",
   "execution_count": 9,
   "metadata": {},
   "outputs": [],
   "source": [
    "# фиксируем пустые строковые\n",
    "# значения как пропуски \n",
    "data <- read.csv2(\"Churn_Verizon.csv\", sep = \";\", fileEncoding = \"cp1251\", na.strings = \"\")"
   ]
  },
  {
   "cell_type": "markdown",
   "metadata": {},
   "source": [
    "## I.3. Изменение типов переменных"
   ]
  },
  {
   "cell_type": "code",
   "execution_count": 10,
   "metadata": {
    "scrolled": true
   },
   "outputs": [
    {
     "name": "stdout",
     "output_type": "stream",
     "text": [
      "'data.frame':\t4431 obs. of  10 variables:\n",
      " $ longdist: Factor w/ 5 levels \"<2\",\"15-20\",\"2-8\",..: 1 NA 1 1 1 NA NA 1 1 1 ...\n",
      " $ local   : Factor w/ 5 levels \"<8\",\"21-35\",\"36-55\",..: 1 1 1 1 NA 1 1 1 1 1 ...\n",
      " $ int_disc: Factor w/ 2 levels \"Да\",\"Нет\": 2 2 2 NA 2 2 2 2 1 2 ...\n",
      " $ billtype: Factor w/ 2 levels \"Бесплатный\",\"Бюджетный\": 2 1 NA 1 1 1 2 1 NA 1 ...\n",
      " $ pay     : Factor w/ 4 levels \"Auto\",\"CC\",\"CD\",..: 2 2 2 4 1 NA NA 1 4 2 ...\n",
      " $ gender  : Factor w/ 4 levels \"Женский\",\"Женский&*\",..: 3 3 3 3 NA 1 3 3 3 3 ...\n",
      " $ marital : Factor w/ 5 levels \"_Женат\",\"_Одинокий\",..: 4 4 4 5 5 5 4 NA 5 4 ...\n",
      " $ income  : num  77680 37112 NA NA 16830 ...\n",
      " $ agecat  : Factor w/ 5 levels \"<31\",\"31-45\",..: 1 1 NA 1 1 1 1 1 1 1 ...\n",
      " $ churn   : int  1 1 1 0 1 1 1 1 1 1 ...\n"
     ]
    }
   ],
   "source": [
    "# смотрим типы переменных\n",
    "str(data)"
   ]
  },
  {
   "cell_type": "code",
   "execution_count": 11,
   "metadata": {},
   "outputs": [],
   "source": [
    "# преобразовываем переменную\n",
    "# churn в вектор типа factor \n",
    "data$churn <- as.factor(data$churn)"
   ]
  },
  {
   "cell_type": "code",
   "execution_count": 12,
   "metadata": {},
   "outputs": [],
   "source": [
    "# преобразовываем переменные longdist, local,\n",
    "# agecat в вектор типа ordered factor \n",
    "data$longdist <- ordered(data$longdist, \n",
    "                         levels = c(\"<2\", \"2-8\", \"9-14\", \"15-20\", \"21+\"))\n",
    "data$local <- ordered(data$local, \n",
    "                      levels = c(\"<8\", \"8-20\", \"21-35\", \"36-55\", \"56+\"))\n",
    "data$agecat <- ordered(data$agecat, \n",
    "                       levels = c(\"<31\", \"31-45\", \"46-58\", \"59-70\", \"71+\"))"
   ]
  },
  {
   "cell_type": "code",
   "execution_count": 13,
   "metadata": {},
   "outputs": [
    {
     "name": "stderr",
     "output_type": "stream",
     "text": [
      "\n",
      "Attaching package: ‘dplyr’\n",
      "\n",
      "The following objects are masked from ‘package:stats’:\n",
      "\n",
      "    filter, lag\n",
      "\n",
      "The following objects are masked from ‘package:base’:\n",
      "\n",
      "    intersect, setdiff, setequal, union\n",
      "\n"
     ]
    }
   ],
   "source": [
    "# загружаем пакет dplyr \n",
    "library(dplyr)\n",
    "# c помощью функции recode() пакета dplyr\n",
    "# переименовываем категории переменной marital_status\n",
    "data$churn <- dplyr::recode(data$churn, \"0\" = \"Остается\", \"1\" = \"Уходит\")"
   ]
  },
  {
   "cell_type": "code",
   "execution_count": 14,
   "metadata": {
    "scrolled": true
   },
   "outputs": [
    {
     "name": "stdout",
     "output_type": "stream",
     "text": [
      "'data.frame':\t4431 obs. of  10 variables:\n",
      " $ longdist: Ord.factor w/ 5 levels \"<2\"<\"2-8\"<\"9-14\"<..: 1 NA 1 1 1 NA NA 1 1 1 ...\n",
      " $ local   : Ord.factor w/ 5 levels \"<8\"<\"8-20\"<\"21-35\"<..: 1 1 1 1 NA 1 1 1 1 1 ...\n",
      " $ int_disc: Factor w/ 2 levels \"Да\",\"Нет\": 2 2 2 NA 2 2 2 2 1 2 ...\n",
      " $ billtype: Factor w/ 2 levels \"Бесплатный\",\"Бюджетный\": 2 1 NA 1 1 1 2 1 NA 1 ...\n",
      " $ pay     : Factor w/ 4 levels \"Auto\",\"CC\",\"CD\",..: 2 2 2 4 1 NA NA 1 4 2 ...\n",
      " $ gender  : Factor w/ 4 levels \"Женский\",\"Женский&*\",..: 3 3 3 3 NA 1 3 3 3 3 ...\n",
      " $ marital : Factor w/ 5 levels \"_Женат\",\"_Одинокий\",..: 4 4 4 5 5 5 4 NA 5 4 ...\n",
      " $ income  : num  77680 37112 NA NA 16830 ...\n",
      " $ agecat  : Ord.factor w/ 5 levels \"<31\"<\"31-45\"<..: 1 1 NA 1 1 1 1 1 1 1 ...\n",
      " $ churn   : Factor w/ 2 levels \"Остается\",\"Уходит\": 2 2 2 1 2 2 2 2 2 2 ...\n"
     ]
    }
   ],
   "source": [
    "# смотрим типы переменных \n",
    "str(data)"
   ]
  },
  {
   "cell_type": "markdown",
   "metadata": {},
   "source": [
    "## I.4. Обработка дублирующихся наблюдений"
   ]
  },
  {
   "cell_type": "code",
   "execution_count": 15,
   "metadata": {},
   "outputs": [
    {
     "data": {
      "text/html": [
       "<table>\n",
       "<thead><tr><th></th><th scope=col>longdist</th><th scope=col>local</th><th scope=col>int_disc</th><th scope=col>billtype</th><th scope=col>pay</th><th scope=col>gender</th><th scope=col>marital</th><th scope=col>income</th><th scope=col>agecat</th><th scope=col>churn</th></tr></thead>\n",
       "<tbody>\n",
       "\t<tr><th scope=row>358</th><td><span style=white-space:pre-wrap>&lt;2   </span> </td><td><span style=white-space:pre-wrap>&lt;8   </span> </td><td>Нет                                              </td><td>Бюджетный                                        </td><td><span style=white-space:pre-wrap>CC  </span>     </td><td>Женский&amp;*                                    </td><td><span style=white-space:pre-wrap>_Женат   </span></td><td>32118.4                                          </td><td><span style=white-space:pre-wrap>71+  </span>    </td><td><span style=white-space:pre-wrap>Уходит  </span> </td></tr>\n",
       "\t<tr><th scope=row>461</th><td><span style=white-space:pre-wrap>&lt;2   </span></td><td><span style=white-space:pre-wrap>&lt;8   </span></td><td>Да                                              </td><td>Бесплатный                                      </td><td><span style=white-space:pre-wrap>CC  </span>    </td><td>Женский&amp;*                                   </td><td>_Одинокий                                       </td><td>18831.1                                         </td><td>46-58                                           </td><td><span style=white-space:pre-wrap>Уходит  </span></td></tr>\n",
       "\t<tr><th scope=row>2060</th><td><span style=white-space:pre-wrap>21+  </span>    </td><td>21-35                                            </td><td>Нет                                              </td><td>Бюджетный                                        </td><td><span style=white-space:pre-wrap>CC  </span>     </td><td>Мужской&amp;*                                    </td><td><span style=white-space:pre-wrap>_Женат   </span></td><td>84269.0                                          </td><td>31-45                                            </td><td>Остается                                         </td></tr>\n",
       "\t<tr><th scope=row>3161</th><td>9-14                                         </td><td><span style=white-space:pre-wrap>56+  </span></td><td>Нет                                          </td><td>Бюджетный                                    </td><td><span style=white-space:pre-wrap>CC  </span> </td><td>Мужской&amp;*                                </td><td>_Одинокий                                    </td><td>54643.3                                      </td><td>31-45                                        </td><td>Остается                                     </td></tr>\n",
       "\t<tr><th scope=row>3834</th><td><span style=white-space:pre-wrap>2-8  </span>        </td><td>21-35                                                </td><td>Нет                                                  </td><td>Бесплатный                                           </td><td>Auto                                                 </td><td><span style=white-space:pre-wrap>Женский  </span>    </td><td><span style=white-space:pre-wrap>Же&amp;нат   </span></td><td>92353.3                                              </td><td>46-58                                                </td><td>Остается                                             </td></tr>\n",
       "\t<tr><th scope=row>4382</th><td>15-20                                            </td><td>21-35                                            </td><td>Нет                                              </td><td>Бесплатный                                       </td><td><span style=white-space:pre-wrap>CC  </span>     </td><td>Женский&amp;*                                    </td><td><span style=white-space:pre-wrap>_Женат   </span></td><td>87404.6                                          </td><td>46-58                                            </td><td><span style=white-space:pre-wrap>Уходит  </span> </td></tr>\n",
       "\t<tr><th scope=row>4431</th><td><span style=white-space:pre-wrap>21+  </span></td><td>8-20                                         </td><td>Нет                                          </td><td>Бесплатный                                   </td><td><span style=white-space:pre-wrap>CC  </span> </td><td>Женский&amp;*                                </td><td>_Одинокий                                    </td><td>75639.8                                      </td><td>31-45                                        </td><td>Остается                                     </td></tr>\n",
       "</tbody>\n",
       "</table>\n"
      ],
      "text/latex": [
       "\\begin{tabular}{r|llllllllll}\n",
       "  & longdist & local & int\\_disc & billtype & pay & gender & marital & income & agecat & churn\\\\\n",
       "\\hline\n",
       "\t358 & <2          & <8          & Нет         & Бюджетный   & CC          & Женский\\&* & \\_Женат    & 32118.4     & 71+         & Уходит     \\\\\n",
       "\t461 & <2          & <8          & Да          & Бесплатный  & CC          & Женский\\&* & \\_Одинокий & 18831.1     & 46-58       & Уходит     \\\\\n",
       "\t2060 & 21+         & 21-35       & Нет         & Бюджетный   & CC          & Мужской\\&* & \\_Женат    & 84269.0     & 31-45       & Остается   \\\\\n",
       "\t3161 & 9-14        & 56+         & Нет         & Бюджетный   & CC          & Мужской\\&* & \\_Одинокий & 54643.3     & 31-45       & Остается   \\\\\n",
       "\t3834 & 2-8         & 21-35       & Нет         & Бесплатный  & Auto        & Женский     & Же\\&нат    & 92353.3     & 46-58       & Остается   \\\\\n",
       "\t4382 & 15-20       & 21-35       & Нет         & Бесплатный  & CC          & Женский\\&* & \\_Женат    & 87404.6     & 46-58       & Уходит     \\\\\n",
       "\t4431 & 21+         & 8-20        & Нет         & Бесплатный  & CC          & Женский\\&* & \\_Одинокий & 75639.8     & 31-45       & Остается   \\\\\n",
       "\\end{tabular}\n"
      ],
      "text/markdown": [
       "\n",
       "| <!--/--> | longdist | local | int_disc | billtype | pay | gender | marital | income | agecat | churn | \n",
       "|---|---|---|---|---|---|---|\n",
       "| 358 | <2         | <8         | Нет        | Бюджетный  | CC         | Женский&*  | _Женат     | 32118.4    | 71+        | Уходит     | \n",
       "| 461 | <2         | <8         | Да         | Бесплатный | CC         | Женский&*  | _Одинокий  | 18831.1    | 46-58      | Уходит     | \n",
       "| 2060 | 21+        | 21-35      | Нет        | Бюджетный  | CC         | Мужской&*  | _Женат     | 84269.0    | 31-45      | Остается   | \n",
       "| 3161 | 9-14       | 56+        | Нет        | Бюджетный  | CC         | Мужской&*  | _Одинокий  | 54643.3    | 31-45      | Остается   | \n",
       "| 3834 | 2-8        | 21-35      | Нет        | Бесплатный | Auto       | Женский    | Же&нат     | 92353.3    | 46-58      | Остается   | \n",
       "| 4382 | 15-20      | 21-35      | Нет        | Бесплатный | CC         | Женский&*  | _Женат     | 87404.6    | 46-58      | Уходит     | \n",
       "| 4431 | 21+        | 8-20       | Нет        | Бесплатный | CC         | Женский&*  | _Одинокий  | 75639.8    | 31-45      | Остается   | \n",
       "\n",
       "\n"
      ],
      "text/plain": [
       "     longdist local int_disc billtype   pay  gender    marital   income  agecat\n",
       "358  <2       <8    Нет      Бюджетный  CC   Женский&* _Женат    32118.4 71+   \n",
       "461  <2       <8    Да       Бесплатный CC   Женский&* _Одинокий 18831.1 46-58 \n",
       "2060 21+      21-35 Нет      Бюджетный  CC   Мужской&* _Женат    84269.0 31-45 \n",
       "3161 9-14     56+   Нет      Бюджетный  CC   Мужской&* _Одинокий 54643.3 31-45 \n",
       "3834 2-8      21-35 Нет      Бесплатный Auto Женский   Же&нат    92353.3 46-58 \n",
       "4382 15-20    21-35 Нет      Бесплатный CC   Женский&* _Женат    87404.6 46-58 \n",
       "4431 21+      8-20  Нет      Бесплатный CC   Женский&* _Одинокий 75639.8 31-45 \n",
       "     churn   \n",
       "358  Уходит  \n",
       "461  Уходит  \n",
       "2060 Остается\n",
       "3161 Остается\n",
       "3834 Остается\n",
       "4382 Уходит  \n",
       "4431 Остается"
      ]
     },
     "metadata": {},
     "output_type": "display_data"
    }
   ],
   "source": [
    "# смотрим дублирующиеся наблюдения \n",
    "data[duplicated(data),]"
   ]
  },
  {
   "cell_type": "code",
   "execution_count": 16,
   "metadata": {},
   "outputs": [
    {
     "data": {
      "text/html": [
       "<table>\n",
       "<thead><tr><th></th><th scope=col>longdist</th><th scope=col>local</th><th scope=col>int_disc</th><th scope=col>billtype</th><th scope=col>pay</th><th scope=col>gender</th><th scope=col>marital</th><th scope=col>income</th><th scope=col>agecat</th><th scope=col>churn</th></tr></thead>\n",
       "<tbody>\n",
       "\t<tr><th scope=row>348</th><td>&lt;2        </td><td>&lt;8        </td><td>Нет          </td><td>Бюджетный    </td><td>CC           </td><td>Женский&amp;*</td><td>_Женат       </td><td>32118.4      </td><td>71+          </td><td>Уходит       </td></tr>\n",
       "\t<tr><th scope=row>358</th><td>&lt;2        </td><td>&lt;8        </td><td>Нет          </td><td>Бюджетный    </td><td>CC           </td><td>Женский&amp;*</td><td>_Женат       </td><td>32118.4      </td><td>71+          </td><td>Уходит       </td></tr>\n",
       "</tbody>\n",
       "</table>\n"
      ],
      "text/latex": [
       "\\begin{tabular}{r|llllllllll}\n",
       "  & longdist & local & int\\_disc & billtype & pay & gender & marital & income & agecat & churn\\\\\n",
       "\\hline\n",
       "\t348 & <2          & <8          & Нет         & Бюджетный   & CC          & Женский\\&* & \\_Женат    & 32118.4     & 71+         & Уходит     \\\\\n",
       "\t358 & <2          & <8          & Нет         & Бюджетный   & CC          & Женский\\&* & \\_Женат    & 32118.4     & 71+         & Уходит     \\\\\n",
       "\\end{tabular}\n"
      ],
      "text/markdown": [
       "\n",
       "| <!--/--> | longdist | local | int_disc | billtype | pay | gender | marital | income | agecat | churn | \n",
       "|---|---|\n",
       "| 348 | <2        | <8        | Нет       | Бюджетный | CC        | Женский&* | _Женат    | 32118.4   | 71+       | Уходит    | \n",
       "| 358 | <2        | <8        | Нет       | Бюджетный | CC        | Женский&* | _Женат    | 32118.4   | 71+       | Уходит    | \n",
       "\n",
       "\n"
      ],
      "text/plain": [
       "    longdist local int_disc billtype  pay gender    marital income  agecat\n",
       "348 <2       <8    Нет      Бюджетный CC  Женский&* _Женат  32118.4 71+   \n",
       "358 <2       <8    Нет      Бюджетный CC  Женский&* _Женат  32118.4 71+   \n",
       "    churn \n",
       "348 Уходит\n",
       "358 Уходит"
      ]
     },
     "metadata": {},
     "output_type": "display_data"
    }
   ],
   "source": [
    "# проверим, дублируется ли наблюдение \n",
    "# по заданному набору условий  \n",
    "data[data$longdist == \"<2\" & \n",
    "       data$local == \"<8\" & \n",
    "       data$int_disc == \"Нет\" & \n",
    "       data$billtype == \"Бюджетный\" & \n",
    "       data$pay == \"CC\" & \n",
    "       data$gender == \"Женский&*\" & \n",
    "       data$marital == \"_Женат\" & \n",
    "       data$income == 32118.4 & \n",
    "       data$agecat == \"71+\" & \n",
    "       data$churn ==\"Уходит\", ] "
   ]
  },
  {
   "cell_type": "code",
   "execution_count": 17,
   "metadata": {},
   "outputs": [
    {
     "data": {
      "text/html": [
       "4424"
      ],
      "text/latex": [
       "4424"
      ],
      "text/markdown": [
       "4424"
      ],
      "text/plain": [
       "[1] 4424"
      ]
     },
     "metadata": {},
     "output_type": "display_data"
    }
   ],
   "source": [
    "# оставим только уникальные наблюдения  \n",
    "data <- unique(data)\n",
    "# смотрим, сколько наблюдений мы\n",
    "# теперь будем использовать  \n",
    "nrow(data)"
   ]
  },
  {
   "cell_type": "markdown",
   "metadata": {},
   "source": [
    "## I.5. Вывод подробной информации о переменных"
   ]
  },
  {
   "cell_type": "code",
   "execution_count": 18,
   "metadata": {},
   "outputs": [
    {
     "name": "stderr",
     "output_type": "stream",
     "text": [
      "Loading required package: lattice\n",
      "Loading required package: survival\n",
      "Loading required package: Formula\n",
      "Loading required package: ggplot2\n",
      "\n",
      "Attaching package: ‘Hmisc’\n",
      "\n",
      "The following objects are masked from ‘package:dplyr’:\n",
      "\n",
      "    src, summarize\n",
      "\n",
      "The following objects are masked from ‘package:base’:\n",
      "\n",
      "    format.pval, units\n",
      "\n"
     ]
    },
    {
     "data": {
      "text/plain": [
       "data \n",
       "\n",
       " 10  Variables      4424  Observations\n",
       "--------------------------------------------------------------------------------\n",
       "longdist \n",
       "       n  missing distinct \n",
       "    4421        3        5 \n",
       "                                        \n",
       "Value         <2   2-8  9-14 15-20   21+\n",
       "Frequency    736   867   993  1054   771\n",
       "Proportion 0.166 0.196 0.225 0.238 0.174\n",
       "--------------------------------------------------------------------------------\n",
       "local \n",
       "       n  missing distinct \n",
       "    4423        1        5 \n",
       "                                        \n",
       "Value         <8  8-20 21-35 36-55   56+\n",
       "Frequency    738   763  1444   738   740\n",
       "Proportion 0.167 0.173 0.326 0.167 0.167\n",
       "--------------------------------------------------------------------------------\n",
       "int_disc \n",
       "       n  missing distinct \n",
       "    4423        1        2 \n",
       "                      \n",
       "Value         Да   Нет\n",
       "Frequency   1376  3047\n",
       "Proportion 0.311 0.689\n",
       "--------------------------------------------------------------------------------\n",
       "billtype \n",
       "       n  missing distinct \n",
       "    4422        2        2 \n",
       "                                \n",
       "Value      Бесплатный  Бюджетный\n",
       "Frequency        2181       2241\n",
       "Proportion      0.493      0.507\n",
       "--------------------------------------------------------------------------------\n",
       "pay \n",
       "       n  missing distinct \n",
       "    4422        2        4 \n",
       "                                  \n",
       "Value       Auto    CC    CD    CH\n",
       "Frequency    889  2554     2   977\n",
       "Proportion 0.201 0.578 0.000 0.221\n",
       "--------------------------------------------------------------------------------\n",
       "gender \n",
       "       n  missing distinct \n",
       "    4423        1        4 \n",
       "                                                  \n",
       "Value        Женский Женский&*   Мужской Мужской&*\n",
       "Frequency       2235         4      2182         2\n",
       "Proportion     0.505     0.001     0.493     0.000\n",
       "--------------------------------------------------------------------------------\n",
       "marital \n",
       "       n  missing distinct \n",
       "    4423        1        5 \n",
       "                                                            \n",
       "Value         _Женат _Одинокий    Же&нат     Женат  Одинокий\n",
       "Frequency          3         3         1      2620      1796\n",
       "Proportion     0.001     0.001     0.000     0.592     0.406\n",
       "--------------------------------------------------------------------------------\n",
       "income \n",
       "       n  missing distinct     Info     Mean      Gmd      .05      .10 \n",
       "    4420        4     1456        1    50297    32835     5565    11255 \n",
       "     .25      .50      .75      .90      .95 \n",
       "   25446    50291    75004    90189    94903 \n",
       "\n",
       "lowest :   110.28   127.24   295.94   349.09   540.41\n",
       "highest: 99488.10 99514.60 99563.10 99619.90 99832.90\n",
       "--------------------------------------------------------------------------------\n",
       "agecat \n",
       "       n  missing distinct \n",
       "    4423        1        5 \n",
       "                                        \n",
       "Value        <31 31-45 46-58 59-70   71+\n",
       "Frequency    755  1303   908   717   740\n",
       "Proportion 0.171 0.295 0.205 0.162 0.167\n",
       "--------------------------------------------------------------------------------\n",
       "churn \n",
       "       n  missing distinct \n",
       "    4424        0        2 \n",
       "                            \n",
       "Value      Остается   Уходит\n",
       "Frequency      2492     1932\n",
       "Proportion    0.563    0.437\n",
       "--------------------------------------------------------------------------------"
      ]
     },
     "metadata": {},
     "output_type": "display_data"
    }
   ],
   "source": [
    "# загружаем пакет Hmisc  \n",
    "library(Hmisc)\n",
    "# с помощью функции describe() пакета\n",
    "# Hmisc выведем подробную информацию\n",
    "# о переменных\n",
    "describe(data)"
   ]
  },
  {
   "cell_type": "code",
   "execution_count": 19,
   "metadata": {},
   "outputs": [],
   "source": [
    "# отсоединяем пакет Hmisc\n",
    "detach(\"package:Hmisc\", unload = TRUE)"
   ]
  },
  {
   "cell_type": "markdown",
   "metadata": {},
   "source": [
    "## I.6. Нормализация строковых значений"
   ]
  },
  {
   "cell_type": "code",
   "execution_count": 20,
   "metadata": {},
   "outputs": [
    {
     "data": {
      "text/html": [
       "<dl>\n",
       "\t<dt>$gender</dt>\n",
       "\t\t<dd><dl class=dl-horizontal>\n",
       "\t<dt>Женский</dt>\n",
       "\t\t<dd>2235</dd>\n",
       "\t<dt>Женский&amp;*</dt>\n",
       "\t\t<dd>4</dd>\n",
       "\t<dt>Мужской</dt>\n",
       "\t\t<dd>2182</dd>\n",
       "\t<dt>Мужской&amp;*</dt>\n",
       "\t\t<dd>2</dd>\n",
       "\t<dt>NA's</dt>\n",
       "\t\t<dd>1</dd>\n",
       "</dl>\n",
       "</dd>\n",
       "\t<dt>$marital</dt>\n",
       "\t\t<dd><dl class=dl-horizontal>\n",
       "\t<dt>_Женат</dt>\n",
       "\t\t<dd>3</dd>\n",
       "\t<dt>_Одинокий</dt>\n",
       "\t\t<dd>3</dd>\n",
       "\t<dt>Же&amp;нат</dt>\n",
       "\t\t<dd>1</dd>\n",
       "\t<dt>Женат</dt>\n",
       "\t\t<dd>2620</dd>\n",
       "\t<dt>Одинокий</dt>\n",
       "\t\t<dd>1796</dd>\n",
       "\t<dt>NA's</dt>\n",
       "\t\t<dd>1</dd>\n",
       "</dl>\n",
       "</dd>\n",
       "</dl>\n"
      ],
      "text/latex": [
       "\\begin{description}\n",
       "\\item[\\$gender] \\begin{description*}\n",
       "\\item[Женский] 2235\n",
       "\\item[Женский\\textbackslash{}\\&*] 4\n",
       "\\item[Мужской] 2182\n",
       "\\item[Мужской\\textbackslash{}\\&*] 2\n",
       "\\item[NA's] 1\n",
       "\\end{description*}\n",
       "\n",
       "\\item[\\$marital] \\begin{description*}\n",
       "\\item[\\textbackslash{}\\_Женат] 3\n",
       "\\item[\\textbackslash{}\\_Одинокий] 3\n",
       "\\item[Же\\textbackslash{}\\&нат] 1\n",
       "\\item[Женат] 2620\n",
       "\\item[Одинокий] 1796\n",
       "\\item[NA's] 1\n",
       "\\end{description*}\n",
       "\n",
       "\\end{description}\n"
      ],
      "text/markdown": [
       "$gender\n",
       ":   Женский\n",
       ":   2235Женский&amp;amp;*\n",
       ":   4Мужской\n",
       ":   2182Мужской&amp;amp;*\n",
       ":   2NA's\n",
       ":   1\n",
       "\n",
       "\n",
       "$marital\n",
       ":   _Женат\n",
       ":   3_Одинокий\n",
       ":   3Же&amp;amp;нат\n",
       ":   1Женат\n",
       ":   2620Одинокий\n",
       ":   1796NA's\n",
       ":   1\n",
       "\n",
       "\n",
       "\n",
       "\n"
      ],
      "text/plain": [
       "$gender\n",
       "  Женский Женский&*   Мужской Мужской&*      NA's \n",
       "     2235         4      2182         2         1 \n",
       "\n",
       "$marital\n",
       "   _Женат _Одинокий    Же&нат     Женат  Одинокий      NA's \n",
       "        3         3         1      2620      1796         1 \n"
      ]
     },
     "metadata": {},
     "output_type": "display_data"
    }
   ],
   "source": [
    "# создаем вектор названий переменных  \n",
    "names <- c(\"gender\", \"marital\")\n",
    "# с помощью функции lapply() применяем\n",
    "# функцию summary к переменным, названия\n",
    "# которых записаны в векторе names  \n",
    "lapply(data[,names], function(x) summary(x))"
   ]
  },
  {
   "cell_type": "code",
   "execution_count": 21,
   "metadata": {},
   "outputs": [
    {
     "data": {
      "text/html": [
       "<dl>\n",
       "\t<dt>$gender</dt>\n",
       "\t\t<dd><ol class=list-inline>\n",
       "\t<li>'Женский'</li>\n",
       "\t<li>'Женский&amp;*'</li>\n",
       "\t<li>'Мужской'</li>\n",
       "\t<li>'Мужской&amp;*'</li>\n",
       "</ol>\n",
       "</dd>\n",
       "\t<dt>$marital</dt>\n",
       "\t\t<dd><ol class=list-inline>\n",
       "\t<li>'_Женат'</li>\n",
       "\t<li>'_Одинокий'</li>\n",
       "\t<li>'Же&amp;нат'</li>\n",
       "\t<li>'Женат'</li>\n",
       "\t<li>'Одинокий'</li>\n",
       "</ol>\n",
       "</dd>\n",
       "</dl>\n"
      ],
      "text/latex": [
       "\\begin{description}\n",
       "\\item[\\$gender] \\begin{enumerate*}\n",
       "\\item 'Женский'\n",
       "\\item 'Женский\\&*'\n",
       "\\item 'Мужской'\n",
       "\\item 'Мужской\\&*'\n",
       "\\end{enumerate*}\n",
       "\n",
       "\\item[\\$marital] \\begin{enumerate*}\n",
       "\\item '\\_Женат'\n",
       "\\item '\\_Одинокий'\n",
       "\\item 'Же\\&нат'\n",
       "\\item 'Женат'\n",
       "\\item 'Одинокий'\n",
       "\\end{enumerate*}\n",
       "\n",
       "\\end{description}\n"
      ],
      "text/markdown": [
       "$gender\n",
       ":   1. 'Женский'\n",
       "2. 'Женский&amp;*'\n",
       "3. 'Мужской'\n",
       "4. 'Мужской&amp;*'\n",
       "\n",
       "\n",
       "\n",
       "$marital\n",
       ":   1. '_Женат'\n",
       "2. '_Одинокий'\n",
       "3. 'Же&amp;нат'\n",
       "4. 'Женат'\n",
       "5. 'Одинокий'\n",
       "\n",
       "\n",
       "\n",
       "\n",
       "\n"
      ],
      "text/plain": [
       "$gender\n",
       "[1] \"Женский\"   \"Женский&*\" \"Мужской\"   \"Мужской&*\"\n",
       "\n",
       "$marital\n",
       "[1] \"_Женат\"    \"_Одинокий\" \"Же&нат\"    \"Женат\"     \"Одинокий\" \n"
      ]
     },
     "metadata": {},
     "output_type": "display_data"
    }
   ],
   "source": [
    "# с помощью функции lapply() применяем\n",
    "# функцию levels к переменным, названия\n",
    "# которых записаны в векторе names  \n",
    "lapply(data[,names], function(x) levels(x))"
   ]
  },
  {
   "cell_type": "code",
   "execution_count": 22,
   "metadata": {},
   "outputs": [],
   "source": [
    "# преобразовываем переменную gender из вектора типа factor\n",
    "# в вектор типа character (нельзя напрямую изменить строковое\n",
    "# значение фактора, потому что в факторе под капотом для строковых \n",
    "# значений используются целочисленные коды, поэтому переводим в \n",
    "# вектор типа character, у которого значения – строки)\n",
    "data$gender <- as.character(data$gender)\n",
    "\n",
    "# удаляем с помощью функции gsub() символы & и *,\n",
    "# первый аргумент – удаляемые символы, второй\n",
    "# аргумент – символы, на которые нужно заменить,\n",
    "# третий аргумент – вектор типа character или строка \n",
    "data$gender <- gsub('\\\\&\\\\*', \"\", data$gender)"
   ]
  },
  {
   "cell_type": "code",
   "execution_count": 23,
   "metadata": {},
   "outputs": [],
   "source": [
    "# преобразовываем переменную gender обратно из вектора\n",
    "# типа character в вектор типа factor\n",
    "data$gender <- as.factor(data$gender)"
   ]
  },
  {
   "cell_type": "code",
   "execution_count": 24,
   "metadata": {},
   "outputs": [],
   "source": [
    "# загружаем пакет stringr\n",
    "library(stringr)\n",
    "\n",
    "# преобразовываем переменную marital из вектора типа factor\n",
    "# в вектор типа character\n",
    "data$marital <- as.character(data$marital)\n",
    "\n",
    "# удаляем с помощью функции str_replace_all() пакета stringr\n",
    "# все символы, не являющиеся буквами алфавита и числами\n",
    "# первый аргумент – вектор типа character или строка,\n",
    "# второй аргумент – символы, которые нужно удалить,\n",
    "# третий аргумент – символы, на которые нужно заменить\n",
    "data$marital <- str_replace_all(data$marital, \"[^[:alnum:]]\", \"\")\n",
    "\n",
    "# преобразовываем переменную marital обратно из вектора\n",
    "# типа character в вектор типа factor\n",
    "data$marital <- as.factor(data$marital) "
   ]
  },
  {
   "cell_type": "code",
   "execution_count": 25,
   "metadata": {
    "scrolled": true
   },
   "outputs": [
    {
     "data": {
      "text/html": [
       "<dl>\n",
       "\t<dt>$gender</dt>\n",
       "\t\t<dd><ol class=list-inline>\n",
       "\t<li>'Женский'</li>\n",
       "\t<li>'Мужской'</li>\n",
       "</ol>\n",
       "</dd>\n",
       "\t<dt>$marital</dt>\n",
       "\t\t<dd><ol class=list-inline>\n",
       "\t<li>'Женат'</li>\n",
       "\t<li>'Одинокий'</li>\n",
       "</ol>\n",
       "</dd>\n",
       "</dl>\n"
      ],
      "text/latex": [
       "\\begin{description}\n",
       "\\item[\\$gender] \\begin{enumerate*}\n",
       "\\item 'Женский'\n",
       "\\item 'Мужской'\n",
       "\\end{enumerate*}\n",
       "\n",
       "\\item[\\$marital] \\begin{enumerate*}\n",
       "\\item 'Женат'\n",
       "\\item 'Одинокий'\n",
       "\\end{enumerate*}\n",
       "\n",
       "\\end{description}\n"
      ],
      "text/markdown": [
       "$gender\n",
       ":   1. 'Женский'\n",
       "2. 'Мужской'\n",
       "\n",
       "\n",
       "\n",
       "$marital\n",
       ":   1. 'Женат'\n",
       "2. 'Одинокий'\n",
       "\n",
       "\n",
       "\n",
       "\n",
       "\n"
      ],
      "text/plain": [
       "$gender\n",
       "[1] \"Женский\" \"Мужской\"\n",
       "\n",
       "$marital\n",
       "[1] \"Женат\"    \"Одинокий\"\n"
      ]
     },
     "metadata": {},
     "output_type": "display_data"
    }
   ],
   "source": [
    "# снова выводим информацию об уровнях переменной\n",
    "lapply(data[,names], function(x) levels(x))"
   ]
  },
  {
   "cell_type": "markdown",
   "metadata": {},
   "source": [
    "## I.7. Обработка редких категорий"
   ]
  },
  {
   "cell_type": "code",
   "execution_count": 26,
   "metadata": {},
   "outputs": [
    {
     "data": {
      "text/html": [
       "<dl class=dl-horizontal>\n",
       "\t<dt>Auto</dt>\n",
       "\t\t<dd>889</dd>\n",
       "\t<dt>CC</dt>\n",
       "\t\t<dd>2554</dd>\n",
       "\t<dt>CD</dt>\n",
       "\t\t<dd>2</dd>\n",
       "\t<dt>CH</dt>\n",
       "\t\t<dd>977</dd>\n",
       "\t<dt>NA's</dt>\n",
       "\t\t<dd>2</dd>\n",
       "</dl>\n"
      ],
      "text/latex": [
       "\\begin{description*}\n",
       "\\item[Auto] 889\n",
       "\\item[CC] 2554\n",
       "\\item[CD] 2\n",
       "\\item[CH] 977\n",
       "\\item[NA's] 2\n",
       "\\end{description*}\n"
      ],
      "text/markdown": [
       "Auto\n",
       ":   889CC\n",
       ":   2554CD\n",
       ":   2CH\n",
       ":   977NA's\n",
       ":   2\n",
       "\n"
      ],
      "text/plain": [
       "Auto   CC   CD   CH NA's \n",
       " 889 2554    2  977    2 "
      ]
     },
     "metadata": {},
     "output_type": "display_data"
    }
   ],
   "source": [
    "# выводим информацию о распределении\n",
    "# значений переменной pay\n",
    "summary(data$pay)"
   ]
  },
  {
   "cell_type": "code",
   "execution_count": 27,
   "metadata": {},
   "outputs": [
    {
     "name": "stderr",
     "output_type": "stream",
     "text": [
      "Loading required package: carData\n",
      "\n",
      "Attaching package: ‘car’\n",
      "\n",
      "The following object is masked from ‘package:dplyr’:\n",
      "\n",
      "    recode\n",
      "\n"
     ]
    },
    {
     "data": {
      "text/html": [
       "<dl class=dl-horizontal>\n",
       "\t<dt>Auto</dt>\n",
       "\t\t<dd>889</dd>\n",
       "\t<dt>CC</dt>\n",
       "\t\t<dd>2556</dd>\n",
       "\t<dt>CH</dt>\n",
       "\t\t<dd>977</dd>\n",
       "\t<dt>NA's</dt>\n",
       "\t\t<dd>2</dd>\n",
       "</dl>\n"
      ],
      "text/latex": [
       "\\begin{description*}\n",
       "\\item[Auto] 889\n",
       "\\item[CC] 2556\n",
       "\\item[CH] 977\n",
       "\\item[NA's] 2\n",
       "\\end{description*}\n"
      ],
      "text/markdown": [
       "Auto\n",
       ":   889CC\n",
       ":   2556CH\n",
       ":   977NA's\n",
       ":   2\n",
       "\n"
      ],
      "text/plain": [
       "Auto   CC   CH NA's \n",
       " 889 2556  977    2 "
      ]
     },
     "metadata": {},
     "output_type": "display_data"
    }
   ],
   "source": [
    "# загружаем пакет car\n",
    "library(car)\n",
    "# с помощью функции recode пакета car\n",
    "# объединяем редкую категорию CD с\n",
    "# самой часто встречающейся\n",
    "# категорией CC\n",
    "data$pay <- car::recode(data$pay, \"'CD' = 'CC'\")\n",
    "# снова выводим информацию о распределении\n",
    "# значений переменной pay\n",
    "summary(data$pay)"
   ]
  },
  {
   "cell_type": "markdown",
   "metadata": {},
   "source": [
    "## I.8. Однократное случайное разбиение набора данных на обучающую и контрольную выборки для проверки модели"
   ]
  },
  {
   "cell_type": "code",
   "execution_count": 28,
   "metadata": {},
   "outputs": [],
   "source": [
    "# задаем стартовое значение генератора случайных\n",
    "# чисел для воспроизводимости результатов разбиения\n",
    "set.seed(42)\n",
    "\n",
    "# создаем переменную random_number, которая случайным\n",
    "# образом разбивает набор данных на обучающую\n",
    "# и контрольную выборки\n",
    "random_number <- runif(nrow(data), 0, 1)\n",
    "development <- data[random_number > 0.3, ]\n",
    "holdout <- data[random_number <= 0.3, ]"
   ]
  },
  {
   "cell_type": "code",
   "execution_count": 29,
   "metadata": {},
   "outputs": [
    {
     "name": "stdout",
     "output_type": "stream",
     "text": [
      "'data.frame':\t3080 obs. of  10 variables:\n",
      " $ longdist: Ord.factor w/ 5 levels \"<2\"<\"2-8\"<\"9-14\"<..: 1 NA 1 1 NA NA 1 1 1 1 ...\n",
      " $ local   : Ord.factor w/ 5 levels \"<8\"<\"8-20\"<\"21-35\"<..: 1 1 1 NA 1 1 1 1 1 1 ...\n",
      " $ int_disc: Factor w/ 2 levels \"Да\",\"Нет\": 2 2 NA 2 2 2 1 2 2 2 ...\n",
      " $ billtype: Factor w/ 2 levels \"Бесплатный\",\"Бюджетный\": 2 1 1 1 1 2 NA 1 1 2 ...\n",
      " $ pay     : Factor w/ 3 levels \"Auto\",\"CC\",\"CH\": 2 2 3 1 NA NA 3 2 3 2 ...\n",
      " $ gender  : Factor w/ 2 levels \"Женский\",\"Мужской\": 2 2 2 NA 1 2 2 2 2 1 ...\n",
      " $ marital : Factor w/ 2 levels \"Женат\",\"Одинокий\": 1 1 2 2 2 1 2 1 2 1 ...\n",
      " $ income  : num  77680 37112 NA 16830 57273 ...\n",
      " $ agecat  : Ord.factor w/ 5 levels \"<31\"<\"31-45\"<..: 1 1 1 1 1 1 1 1 1 1 ...\n",
      " $ churn   : Factor w/ 2 levels \"Остается\",\"Уходит\": 2 2 1 2 2 2 2 2 1 2 ...\n"
     ]
    }
   ],
   "source": [
    "# смотрим обучающий датафрейм \n",
    "str(development)"
   ]
  },
  {
   "cell_type": "code",
   "execution_count": 30,
   "metadata": {},
   "outputs": [
    {
     "name": "stdout",
     "output_type": "stream",
     "text": [
      "'data.frame':\t1344 obs. of  10 variables:\n",
      " $ longdist: Ord.factor w/ 5 levels \"<2\"<\"2-8\"<\"9-14\"<..: 1 1 1 1 1 1 1 1 1 1 ...\n",
      " $ local   : Ord.factor w/ 5 levels \"<8\"<\"8-20\"<\"21-35\"<..: 1 1 1 1 1 1 1 1 1 1 ...\n",
      " $ int_disc: Factor w/ 2 levels \"Да\",\"Нет\": 2 2 2 2 2 2 2 2 2 2 ...\n",
      " $ billtype: Factor w/ 2 levels \"Бесплатный\",\"Бюджетный\": NA 1 1 1 1 1 1 1 2 1 ...\n",
      " $ pay     : Factor w/ 3 levels \"Auto\",\"CC\",\"CH\": 2 1 2 1 3 1 2 1 2 1 ...\n",
      " $ gender  : Factor w/ 2 levels \"Женский\",\"Мужской\": 2 2 2 1 1 2 1 2 2 2 ...\n",
      " $ marital : Factor w/ 2 levels \"Женат\",\"Одинокий\": 1 NA 2 2 1 2 2 2 1 2 ...\n",
      " $ income  : num  NA NA 24458 50969 25949 ...\n",
      " $ agecat  : Ord.factor w/ 5 levels \"<31\"<\"31-45\"<..: NA 1 1 1 1 1 2 3 3 3 ...\n",
      " $ churn   : Factor w/ 2 levels \"Остается\",\"Уходит\": 2 2 1 2 2 2 2 1 2 1 ...\n"
     ]
    }
   ],
   "source": [
    "# смотрим контрольный датафрейм \n",
    "str(holdout)"
   ]
  },
  {
   "cell_type": "code",
   "execution_count": 31,
   "metadata": {},
   "outputs": [
    {
     "data": {
      "text/html": [
       "<dl class=dl-horizontal>\n",
       "\t<dt>Остается</dt>\n",
       "\t\t<dd>1746</dd>\n",
       "\t<dt>Уходит</dt>\n",
       "\t\t<dd>1334</dd>\n",
       "</dl>\n"
      ],
      "text/latex": [
       "\\begin{description*}\n",
       "\\item[Остается] 1746\n",
       "\\item[Уходит] 1334\n",
       "\\end{description*}\n"
      ],
      "text/markdown": [
       "Остается\n",
       ":   1746Уходит\n",
       ":   1334\n",
       "\n"
      ],
      "text/plain": [
       "Остается   Уходит \n",
       "    1746     1334 "
      ]
     },
     "metadata": {},
     "output_type": "display_data"
    }
   ],
   "source": [
    "# выводим информацию о распределении\n",
    "# классов зависимой переменной churn\n",
    "# в обучающей выборке\n",
    "summary(development$churn)"
   ]
  },
  {
   "cell_type": "code",
   "execution_count": 32,
   "metadata": {},
   "outputs": [
    {
     "data": {
      "text/html": [
       "<dl class=dl-horizontal>\n",
       "\t<dt>Остается</dt>\n",
       "\t\t<dd>746</dd>\n",
       "\t<dt>Уходит</dt>\n",
       "\t\t<dd>598</dd>\n",
       "</dl>\n"
      ],
      "text/latex": [
       "\\begin{description*}\n",
       "\\item[Остается] 746\n",
       "\\item[Уходит] 598\n",
       "\\end{description*}\n"
      ],
      "text/markdown": [
       "Остается\n",
       ":   746Уходит\n",
       ":   598\n",
       "\n"
      ],
      "text/plain": [
       "Остается   Уходит \n",
       "     746      598 "
      ]
     },
     "metadata": {},
     "output_type": "display_data"
    }
   ],
   "source": [
    "# выводим информацию о распределении\n",
    "# классов зависимой переменной churn\n",
    "# в контрольной выборке\n",
    "summary(holdout$churn)"
   ]
  },
  {
   "cell_type": "markdown",
   "metadata": {},
   "source": [
    "## I.9. Импутация пропусков"
   ]
  },
  {
   "cell_type": "code",
   "execution_count": 33,
   "metadata": {},
   "outputs": [
    {
     "data": {
      "text/html": [
       "<dl class=dl-horizontal>\n",
       "\t<dt>longdist</dt>\n",
       "\t\t<dd>3</dd>\n",
       "\t<dt>local</dt>\n",
       "\t\t<dd>1</dd>\n",
       "\t<dt>int_disc</dt>\n",
       "\t\t<dd>1</dd>\n",
       "\t<dt>billtype</dt>\n",
       "\t\t<dd>1</dd>\n",
       "\t<dt>pay</dt>\n",
       "\t\t<dd>2</dd>\n",
       "\t<dt>gender</dt>\n",
       "\t\t<dd>1</dd>\n",
       "\t<dt>marital</dt>\n",
       "\t\t<dd>0</dd>\n",
       "\t<dt>income</dt>\n",
       "\t\t<dd>2</dd>\n",
       "\t<dt>agecat</dt>\n",
       "\t\t<dd>0</dd>\n",
       "\t<dt>churn</dt>\n",
       "\t\t<dd>0</dd>\n",
       "</dl>\n"
      ],
      "text/latex": [
       "\\begin{description*}\n",
       "\\item[longdist] 3\n",
       "\\item[local] 1\n",
       "\\item[int\\textbackslash{}\\_disc] 1\n",
       "\\item[billtype] 1\n",
       "\\item[pay] 2\n",
       "\\item[gender] 1\n",
       "\\item[marital] 0\n",
       "\\item[income] 2\n",
       "\\item[agecat] 0\n",
       "\\item[churn] 0\n",
       "\\end{description*}\n"
      ],
      "text/markdown": [
       "longdist\n",
       ":   3local\n",
       ":   1int_disc\n",
       ":   1billtype\n",
       ":   1pay\n",
       ":   2gender\n",
       ":   1marital\n",
       ":   0income\n",
       ":   2agecat\n",
       ":   0churn\n",
       ":   0\n",
       "\n"
      ],
      "text/plain": [
       "longdist    local int_disc billtype      pay   gender  marital   income \n",
       "       3        1        1        1        2        1        0        2 \n",
       "  agecat    churn \n",
       "       0        0 "
      ]
     },
     "metadata": {},
     "output_type": "display_data"
    }
   ],
   "source": [
    "# выведем информацию о пропусках\n",
    "# в обучающей выборке\n",
    "sapply(development, function(x) sum(is.na(x)))"
   ]
  },
  {
   "cell_type": "code",
   "execution_count": 34,
   "metadata": {},
   "outputs": [
    {
     "data": {
      "text/html": [
       "<dl class=dl-horizontal>\n",
       "\t<dt>longdist</dt>\n",
       "\t\t<dd>0</dd>\n",
       "\t<dt>local</dt>\n",
       "\t\t<dd>0</dd>\n",
       "\t<dt>int_disc</dt>\n",
       "\t\t<dd>0</dd>\n",
       "\t<dt>billtype</dt>\n",
       "\t\t<dd>1</dd>\n",
       "\t<dt>pay</dt>\n",
       "\t\t<dd>0</dd>\n",
       "\t<dt>gender</dt>\n",
       "\t\t<dd>0</dd>\n",
       "\t<dt>marital</dt>\n",
       "\t\t<dd>1</dd>\n",
       "\t<dt>income</dt>\n",
       "\t\t<dd>2</dd>\n",
       "\t<dt>agecat</dt>\n",
       "\t\t<dd>1</dd>\n",
       "\t<dt>churn</dt>\n",
       "\t\t<dd>0</dd>\n",
       "</dl>\n"
      ],
      "text/latex": [
       "\\begin{description*}\n",
       "\\item[longdist] 0\n",
       "\\item[local] 0\n",
       "\\item[int\\textbackslash{}\\_disc] 0\n",
       "\\item[billtype] 1\n",
       "\\item[pay] 0\n",
       "\\item[gender] 0\n",
       "\\item[marital] 1\n",
       "\\item[income] 2\n",
       "\\item[agecat] 1\n",
       "\\item[churn] 0\n",
       "\\end{description*}\n"
      ],
      "text/markdown": [
       "longdist\n",
       ":   0local\n",
       ":   0int_disc\n",
       ":   0billtype\n",
       ":   1pay\n",
       ":   0gender\n",
       ":   0marital\n",
       ":   1income\n",
       ":   2agecat\n",
       ":   1churn\n",
       ":   0\n",
       "\n"
      ],
      "text/plain": [
       "longdist    local int_disc billtype      pay   gender  marital   income \n",
       "       0        0        0        1        0        0        1        2 \n",
       "  agecat    churn \n",
       "       1        0 "
      ]
     },
     "metadata": {},
     "output_type": "display_data"
    }
   ],
   "source": [
    "# выведем информацию о пропусках\n",
    "# в контрольной выборке\n",
    "sapply(holdout, function(x) sum(is.na(x)))"
   ]
  },
  {
   "cell_type": "code",
   "execution_count": 35,
   "metadata": {},
   "outputs": [
    {
     "name": "stdout",
     "output_type": "stream",
     "text": [
      "$longdist\n",
      "[1] 3\n",
      "\n",
      "$local\n",
      "[1] 1\n",
      "\n",
      "$int_disc\n",
      "[1] 1\n",
      "\n",
      "$billtype\n",
      "[1] 1\n",
      "\n",
      "$pay\n",
      "[1] 2\n",
      "\n",
      "$gender\n",
      "[1] 1\n",
      "\n",
      "$marital\n",
      "[1] 0\n",
      "\n",
      "$income\n",
      "[1] 2\n",
      "\n",
      "$agecat\n",
      "[1] 0\n",
      "\n",
      "$churn\n",
      "[1] 0\n",
      "\n"
     ]
    }
   ],
   "source": [
    "# выведем информацию о пропусках в обучающей выборке\n",
    "# c помощью lapply(), теперь результат будет\n",
    "# возвращен в виде списка\n",
    "print(lapply(development, function(x) sum(is.na(x))))"
   ]
  },
  {
   "cell_type": "code",
   "execution_count": 36,
   "metadata": {},
   "outputs": [
    {
     "name": "stdout",
     "output_type": "stream",
     "text": [
      "$longdist\n",
      "[1] 0\n",
      "\n",
      "$local\n",
      "[1] 0\n",
      "\n",
      "$int_disc\n",
      "[1] 0\n",
      "\n",
      "$billtype\n",
      "[1] 1\n",
      "\n",
      "$pay\n",
      "[1] 0\n",
      "\n",
      "$gender\n",
      "[1] 0\n",
      "\n",
      "$marital\n",
      "[1] 1\n",
      "\n",
      "$income\n",
      "[1] 2\n",
      "\n",
      "$agecat\n",
      "[1] 1\n",
      "\n",
      "$churn\n",
      "[1] 0\n",
      "\n"
     ]
    }
   ],
   "source": [
    "# выведем информацию о пропусках в контрольной выборке\n",
    "# c помощью lapply(), теперь результат будет\n",
    "# возвращен в виде списка\n",
    "print(lapply(holdout, function(x) sum(is.na(x))))"
   ]
  },
  {
   "cell_type": "code",
   "execution_count": 37,
   "metadata": {},
   "outputs": [
    {
     "data": {
      "text/html": [
       "50184.2742397661"
      ],
      "text/latex": [
       "50184.2742397661"
      ],
      "text/markdown": [
       "50184.2742397661"
      ],
      "text/plain": [
       "[1] 50184.27"
      ]
     },
     "metadata": {},
     "output_type": "display_data"
    }
   ],
   "source": [
    "# вычисляем среднее значение\n",
    "# переменной income\n",
    "mean(development$income, na.rm = TRUE)"
   ]
  },
  {
   "cell_type": "code",
   "execution_count": 38,
   "metadata": {},
   "outputs": [],
   "source": [
    "# выполняем импутацию пропусков с помощью среднего, обратите\n",
    "# внимание, среднее было вычислено отдельно для\n",
    "# каждой выборке\n",
    "development$income[is.na(development$income)] <- mean(development$income, \n",
    "                                                      na.rm = TRUE)\n",
    "holdout$income[is.na(holdout$income)] <- mean(development$income, \n",
    "                                              na.rm = TRUE)"
   ]
  },
  {
   "cell_type": "code",
   "execution_count": 39,
   "metadata": {},
   "outputs": [
    {
     "name": "stderr",
     "output_type": "stream",
     "text": [
      "\n",
      "Attaching package: ‘imputeMissings’\n",
      "\n",
      "The following object is masked from ‘package:dplyr’:\n",
      "\n",
      "    compute\n",
      "\n"
     ]
    }
   ],
   "source": [
    "# загружаем пакет imputeMissings\n",
    "library(imputeMissings)"
   ]
  },
  {
   "cell_type": "code",
   "execution_count": 40,
   "metadata": {},
   "outputs": [],
   "source": [
    "# с помощью функции lapply() преобразовываем переменные \n",
    "# longdist, local и agecat в неупорядоченные факторы\n",
    "names <- c(\"longdist\", \"local\", \"agecat\")\n",
    "development[,names] <- lapply(development[,names], factor, ordered = FALSE)\n",
    "holdout[,names] <- lapply(holdout[,names], factor, ordered = FALSE)"
   ]
  },
  {
   "cell_type": "code",
   "execution_count": 41,
   "metadata": {},
   "outputs": [],
   "source": [
    "# выполняем автоматическую импутацию с помощью\n",
    "# функции impute() пакета imputeMissings\n",
    "values <- imputeMissings::compute(development)\n",
    "development <- imputeMissings::impute(development, object = values)\n",
    "holdout <- imputeMissings::impute(holdout, object = values)"
   ]
  },
  {
   "cell_type": "code",
   "execution_count": 42,
   "metadata": {},
   "outputs": [],
   "source": [
    "# с помощью функции ordered() преобразовываем переменные \n",
    "# longdist, local и agecat обратно в упорядоченные\n",
    "# факторы\n",
    "development$longdist <- ordered(development$longdist, \n",
    "                                levels = c(\"<2\", \"2-8\", \"9-14\", \"15-20\", \"21+\"))\n",
    "development$local <- ordered(development$local, \n",
    "                             levels = c(\"<8\", \"8-20\", \"21-35\", \"36-55\", \"56+\"))\n",
    "development$agecat <- ordered(development$agecat, \n",
    "                              levels = c(\"<31\", \"31-45\", \"46-58\", \"59-70\", \"71+\"))\n",
    "holdout$longdist <- ordered(holdout$longdist, \n",
    "                            levels = c(\"<2\", \"2-8\", \"9-14\", \"15-20\", \"21+\"))\n",
    "holdout$local <- ordered(holdout$local, \n",
    "                         levels = c(\"<8\", \"8-20\", \"21-35\", \"36-55\", \"56+\"))\n",
    "holdout$agecat <- ordered(holdout$agecat, \n",
    "                          levels = c(\"<31\", \"31-45\", \"46-58\", \"59-70\", \"71+\"))"
   ]
  },
  {
   "cell_type": "code",
   "execution_count": 43,
   "metadata": {},
   "outputs": [
    {
     "data": {
      "text/html": [
       "<dl class=dl-horizontal>\n",
       "\t<dt>longdist</dt>\n",
       "\t\t<dd>0</dd>\n",
       "\t<dt>local</dt>\n",
       "\t\t<dd>0</dd>\n",
       "\t<dt>int_disc</dt>\n",
       "\t\t<dd>0</dd>\n",
       "\t<dt>billtype</dt>\n",
       "\t\t<dd>0</dd>\n",
       "\t<dt>pay</dt>\n",
       "\t\t<dd>0</dd>\n",
       "\t<dt>gender</dt>\n",
       "\t\t<dd>0</dd>\n",
       "\t<dt>marital</dt>\n",
       "\t\t<dd>0</dd>\n",
       "\t<dt>income</dt>\n",
       "\t\t<dd>0</dd>\n",
       "\t<dt>agecat</dt>\n",
       "\t\t<dd>0</dd>\n",
       "\t<dt>churn</dt>\n",
       "\t\t<dd>0</dd>\n",
       "</dl>\n"
      ],
      "text/latex": [
       "\\begin{description*}\n",
       "\\item[longdist] 0\n",
       "\\item[local] 0\n",
       "\\item[int\\textbackslash{}\\_disc] 0\n",
       "\\item[billtype] 0\n",
       "\\item[pay] 0\n",
       "\\item[gender] 0\n",
       "\\item[marital] 0\n",
       "\\item[income] 0\n",
       "\\item[agecat] 0\n",
       "\\item[churn] 0\n",
       "\\end{description*}\n"
      ],
      "text/markdown": [
       "longdist\n",
       ":   0local\n",
       ":   0int_disc\n",
       ":   0billtype\n",
       ":   0pay\n",
       ":   0gender\n",
       ":   0marital\n",
       ":   0income\n",
       ":   0agecat\n",
       ":   0churn\n",
       ":   0\n",
       "\n"
      ],
      "text/plain": [
       "longdist    local int_disc billtype      pay   gender  marital   income \n",
       "       0        0        0        0        0        0        0        0 \n",
       "  agecat    churn \n",
       "       0        0 "
      ]
     },
     "metadata": {},
     "output_type": "display_data"
    }
   ],
   "source": [
    "# выводим информацию о пропусках в обучающей выборке\n",
    "sapply(development, function(x) sum(is.na(x)))"
   ]
  },
  {
   "cell_type": "code",
   "execution_count": 44,
   "metadata": {
    "scrolled": true
   },
   "outputs": [
    {
     "data": {
      "text/html": [
       "<dl class=dl-horizontal>\n",
       "\t<dt>longdist</dt>\n",
       "\t\t<dd>0</dd>\n",
       "\t<dt>local</dt>\n",
       "\t\t<dd>0</dd>\n",
       "\t<dt>int_disc</dt>\n",
       "\t\t<dd>0</dd>\n",
       "\t<dt>billtype</dt>\n",
       "\t\t<dd>0</dd>\n",
       "\t<dt>pay</dt>\n",
       "\t\t<dd>0</dd>\n",
       "\t<dt>gender</dt>\n",
       "\t\t<dd>0</dd>\n",
       "\t<dt>marital</dt>\n",
       "\t\t<dd>0</dd>\n",
       "\t<dt>income</dt>\n",
       "\t\t<dd>0</dd>\n",
       "\t<dt>agecat</dt>\n",
       "\t\t<dd>0</dd>\n",
       "\t<dt>churn</dt>\n",
       "\t\t<dd>0</dd>\n",
       "</dl>\n"
      ],
      "text/latex": [
       "\\begin{description*}\n",
       "\\item[longdist] 0\n",
       "\\item[local] 0\n",
       "\\item[int\\textbackslash{}\\_disc] 0\n",
       "\\item[billtype] 0\n",
       "\\item[pay] 0\n",
       "\\item[gender] 0\n",
       "\\item[marital] 0\n",
       "\\item[income] 0\n",
       "\\item[agecat] 0\n",
       "\\item[churn] 0\n",
       "\\end{description*}\n"
      ],
      "text/markdown": [
       "longdist\n",
       ":   0local\n",
       ":   0int_disc\n",
       ":   0billtype\n",
       ":   0pay\n",
       ":   0gender\n",
       ":   0marital\n",
       ":   0income\n",
       ":   0agecat\n",
       ":   0churn\n",
       ":   0\n",
       "\n"
      ],
      "text/plain": [
       "longdist    local int_disc billtype      pay   gender  marital   income \n",
       "       0        0        0        0        0        0        0        0 \n",
       "  agecat    churn \n",
       "       0        0 "
      ]
     },
     "metadata": {},
     "output_type": "display_data"
    }
   ],
   "source": [
    "# выводим информацию о пропусках в контрольной выборке\n",
    "sapply(holdout, function(x) sum(is.na(x)))"
   ]
  },
  {
   "cell_type": "markdown",
   "metadata": {},
   "source": [
    "## I.10. Биннинг количественных переменных для получения порядковых предикторов"
   ]
  },
  {
   "cell_type": "code",
   "execution_count": 45,
   "metadata": {},
   "outputs": [
    {
     "data": {
      "text/html": [
       "<ol class=list-inline>\n",
       "\t<li>110.28</li>\n",
       "\t<li>99832.9</li>\n",
       "</ol>\n"
      ],
      "text/latex": [
       "\\begin{enumerate*}\n",
       "\\item 110.28\n",
       "\\item 99832.9\n",
       "\\end{enumerate*}\n"
      ],
      "text/markdown": [
       "1. 110.28\n",
       "2. 99832.9\n",
       "\n",
       "\n"
      ],
      "text/plain": [
       "[1]   110.28 99832.90"
      ]
     },
     "metadata": {},
     "output_type": "display_data"
    }
   ],
   "source": [
    "# выводим диапазон значений \n",
    "# переменной income\n",
    "range(development$income)"
   ]
  },
  {
   "cell_type": "code",
   "execution_count": 46,
   "metadata": {},
   "outputs": [],
   "source": [
    "# разбиваем переменную income на 10 интервалов одинаковой ширины\n",
    "binned <-cut(x = development$income, breaks = seq(0, 100000, by = 10000), \n",
    "             include.lowest = TRUE, right = TRUE, \n",
    "             ordered_result = TRUE, dig.lab = 6)"
   ]
  },
  {
   "cell_type": "code",
   "execution_count": 47,
   "metadata": {},
   "outputs": [
    {
     "data": {
      "text/html": [
       "<dl class=dl-horizontal>\n",
       "\t<dt>[0,10000]</dt>\n",
       "\t\t<dd>278</dd>\n",
       "\t<dt>(10000,20000]</dt>\n",
       "\t\t<dd>321</dd>\n",
       "\t<dt>(20000,30000]</dt>\n",
       "\t\t<dd>307</dd>\n",
       "\t<dt>(30000,40000]</dt>\n",
       "\t\t<dd>307</dd>\n",
       "\t<dt>(40000,50000]</dt>\n",
       "\t\t<dd>283</dd>\n",
       "\t<dt>(50000,60000]</dt>\n",
       "\t\t<dd>382</dd>\n",
       "\t<dt>(60000,70000]</dt>\n",
       "\t\t<dd>319</dd>\n",
       "\t<dt>(70000,80000]</dt>\n",
       "\t\t<dd>268</dd>\n",
       "\t<dt>(80000,90000]</dt>\n",
       "\t\t<dd>308</dd>\n",
       "\t<dt>(90000,100000]</dt>\n",
       "\t\t<dd>307</dd>\n",
       "</dl>\n"
      ],
      "text/latex": [
       "\\begin{description*}\n",
       "\\item[\\{{[}\\}0,10000\\{{]}\\}] 278\n",
       "\\item[(10000,20000\\{{]}\\}] 321\n",
       "\\item[(20000,30000\\{{]}\\}] 307\n",
       "\\item[(30000,40000\\{{]}\\}] 307\n",
       "\\item[(40000,50000\\{{]}\\}] 283\n",
       "\\item[(50000,60000\\{{]}\\}] 382\n",
       "\\item[(60000,70000\\{{]}\\}] 319\n",
       "\\item[(70000,80000\\{{]}\\}] 268\n",
       "\\item[(80000,90000\\{{]}\\}] 308\n",
       "\\item[(90000,100000\\{{]}\\}] 307\n",
       "\\end{description*}\n"
      ],
      "text/markdown": [
       "[0,10000]\n",
       ":   278(10000,20000]\n",
       ":   321(20000,30000]\n",
       ":   307(30000,40000]\n",
       ":   307(40000,50000]\n",
       ":   283(50000,60000]\n",
       ":   382(60000,70000]\n",
       ":   319(70000,80000]\n",
       ":   268(80000,90000]\n",
       ":   308(90000,100000]\n",
       ":   307\n",
       "\n"
      ],
      "text/plain": [
       "     [0,10000]  (10000,20000]  (20000,30000]  (30000,40000]  (40000,50000] \n",
       "           278            321            307            307            283 \n",
       " (50000,60000]  (60000,70000]  (70000,80000]  (80000,90000] (90000,100000] \n",
       "           382            319            268            308            307 "
      ]
     },
     "metadata": {},
     "output_type": "display_data"
    }
   ],
   "source": [
    "# смотрим распределение значений переменной binned\n",
    "summary(binned)"
   ]
  },
  {
   "cell_type": "code",
   "execution_count": 48,
   "metadata": {},
   "outputs": [],
   "source": [
    "# загружаем пакет lsr\n",
    "library(lsr)\n",
    "# с помощью функции quantileCut() пакета lsr разбиваем\n",
    "# переменную income на 10 интервалов c одинаковым\n",
    "# количеством наблюдений\n",
    "binned2 <- quantileCut(x = development$income, n = 10, \n",
    "                       include.lowest = TRUE, right = TRUE, \n",
    "                       ordered_result = TRUE, dig.lab = 6)"
   ]
  },
  {
   "cell_type": "code",
   "execution_count": 49,
   "metadata": {},
   "outputs": [
    {
     "data": {
      "text/html": [
       "<dl class=dl-horizontal>\n",
       "\t<dt>[10.5574,11254.7]</dt>\n",
       "\t\t<dd>308</dd>\n",
       "\t<dt>(11254.7,20806.8]</dt>\n",
       "\t\t<dd>308</dd>\n",
       "\t<dt>(20806.8,30901.3]</dt>\n",
       "\t\t<dd>310</dd>\n",
       "\t<dt>(30901.3,40756]</dt>\n",
       "\t\t<dd>306</dd>\n",
       "\t<dt>(40756,50290.7]</dt>\n",
       "\t\t<dd>341</dd>\n",
       "\t<dt>(50290.7,58990.9]</dt>\n",
       "\t\t<dd>275</dd>\n",
       "\t<dt>(58990.9,68767]</dt>\n",
       "\t\t<dd>309</dd>\n",
       "\t<dt>(68767,79962.5]</dt>\n",
       "\t\t<dd>307</dd>\n",
       "\t<dt>(79962.5,89931.5]</dt>\n",
       "\t\t<dd>308</dd>\n",
       "\t<dt>(89931.5,99932.6]</dt>\n",
       "\t\t<dd>308</dd>\n",
       "</dl>\n"
      ],
      "text/latex": [
       "\\begin{description*}\n",
       "\\item[\\{{[}\\}10.5574,11254.7\\{{]}\\}] 308\n",
       "\\item[(11254.7,20806.8\\{{]}\\}] 308\n",
       "\\item[(20806.8,30901.3\\{{]}\\}] 310\n",
       "\\item[(30901.3,40756\\{{]}\\}] 306\n",
       "\\item[(40756,50290.7\\{{]}\\}] 341\n",
       "\\item[(50290.7,58990.9\\{{]}\\}] 275\n",
       "\\item[(58990.9,68767\\{{]}\\}] 309\n",
       "\\item[(68767,79962.5\\{{]}\\}] 307\n",
       "\\item[(79962.5,89931.5\\{{]}\\}] 308\n",
       "\\item[(89931.5,99932.6\\{{]}\\}] 308\n",
       "\\end{description*}\n"
      ],
      "text/markdown": [
       "[10.5574,11254.7]\n",
       ":   308(11254.7,20806.8]\n",
       ":   308(20806.8,30901.3]\n",
       ":   310(30901.3,40756]\n",
       ":   306(40756,50290.7]\n",
       ":   341(50290.7,58990.9]\n",
       ":   275(58990.9,68767]\n",
       ":   309(68767,79962.5]\n",
       ":   307(79962.5,89931.5]\n",
       ":   308(89931.5,99932.6]\n",
       ":   308\n",
       "\n"
      ],
      "text/plain": [
       "[10.5574,11254.7] (11254.7,20806.8] (20806.8,30901.3]   (30901.3,40756] \n",
       "              308               308               310               306 \n",
       "  (40756,50290.7] (50290.7,58990.9]   (58990.9,68767]   (68767,79962.5] \n",
       "              341               275               309               307 \n",
       "(79962.5,89931.5] (89931.5,99932.6] \n",
       "              308               308 "
      ]
     },
     "metadata": {},
     "output_type": "display_data"
    }
   ],
   "source": [
    "# смотрим распределение значений\n",
    "# переменной binned2\n",
    "summary(binned2)"
   ]
  },
  {
   "cell_type": "code",
   "execution_count": 50,
   "metadata": {},
   "outputs": [],
   "source": [
    "# выполняем биннинг с учетом полученных правил разбиения\n",
    "development$income <-cut(x = development$income, \n",
    "                         breaks = c(-Inf, 11000, 21000, 31000, 41000,\n",
    "                                    50000, 59000, 69000, 80000,\n",
    "                                    90000, +Inf), \n",
    "                         include.lowest = TRUE, \n",
    "                         ordered_result = TRUE)\n",
    "\n",
    "holdout$income <-cut(x = holdout$income, \n",
    "                     breaks = c(-Inf, 11000, 21000, 31000, 41000,\n",
    "                                50000, 59000, 69000 ,80000,\n",
    "                                90000, +Inf), \n",
    "                     include.lowest = TRUE, \n",
    "                     ordered_result = TRUE)"
   ]
  },
  {
   "cell_type": "markdown",
   "metadata": {},
   "source": [
    "## I.11. Построение модели и работа с диаграммой дерева"
   ]
  },
  {
   "cell_type": "code",
   "execution_count": 51,
   "metadata": {},
   "outputs": [
    {
     "name": "stderr",
     "output_type": "stream",
     "text": [
      "Loading required package: partykit\n",
      "Loading required package: grid\n",
      "Loading required package: libcoin\n",
      "Loading required package: mvtnorm\n"
     ]
    }
   ],
   "source": [
    "# загружаем пакет CHAID\n",
    "library(CHAID)"
   ]
  },
  {
   "cell_type": "code",
   "execution_count": 52,
   "metadata": {},
   "outputs": [],
   "source": [
    "# задаем набор условий для построения дерева CHAID\n",
    "params <- chaid_control(minprob = 0.01, minsplit = 1000, minbucket = 500)\n",
    "# строим модель дерева CHAID\n",
    "chd  <- chaid(churn ~ ., control = params, development)"
   ]
  },
  {
   "cell_type": "code",
   "execution_count": 53,
   "metadata": {},
   "outputs": [
    {
     "data": {
      "image/png": "[encoded data removed]",
      "text/plain": [
       "plot without title"
      ]
     },
     "metadata": {},
     "output_type": "display_data"
    }
   ],
   "source": [
    "# выводим диаграмму дерева\n",
    "plot(chd)"
   ]
  },
  {
   "cell_type": "code",
   "execution_count": 54,
   "metadata": {
    "scrolled": true
   },
   "outputs": [
    {
     "name": "stdout",
     "output_type": "stream",
     "text": [
      "\n",
      "Model formula:\n",
      "churn ~ longdist + local + int_disc + billtype + pay + gender + \n",
      "    marital + income + agecat\n",
      "\n",
      "Fitted party:\n",
      "[1] root\n",
      "|   [2] gender in Женский\n",
      "|   |   [3] longdist <2: Уходит (n = 279, err = 7.9%)\n",
      "|   |   [4] longdist in 2-8, 9-14: Уходит (n = 608, err = 34.4%)\n",
      "|   |   [5] longdist in 15-20, 21+: Уходит (n = 644, err = 42.7%)\n",
      "|   [6] gender in Мужской\n",
      "|   |   [7] local <8: Уходит (n = 248, err = 44.4%)\n",
      "|   |   [8] local in 8-20, 21-35, 36-55, 56+\n",
      "|   |   |   [9] agecat <31: Остается (n = 205, err = 31.2%)\n",
      "|   |   |   [10] agecat in 31-45, 46-58, 59-70, 71+\n",
      "|   |   |   |   [11] longdist <2: Остается (n = 70, err = 4.3%)\n",
      "|   |   |   |   [12] longdist in 2-8: Остается (n = 248, err = 13.3%)\n",
      "|   |   |   |   [13] longdist in 9-14, 15-20: Остается (n = 582, err = 7.4%)\n",
      "|   |   |   |   [14] longdist in 21+: Остается (n = 196, err = 14.3%)\n",
      "\n",
      "Number of inner nodes:    5\n",
      "Number of terminal nodes: 9\n"
     ]
    }
   ],
   "source": [
    "# выводим диаграмму дерева\n",
    "# в схематичном виде\n",
    "print(chd)"
   ]
  },
  {
   "cell_type": "markdown",
   "metadata": {},
   "source": [
    "## I.12. Получение прогнозов модели"
   ]
  },
  {
   "cell_type": "code",
   "execution_count": 55,
   "metadata": {},
   "outputs": [
    {
     "data": {
      "text/html": [
       "<ol class=list-inline>\n",
       "\t<li>0.443548387096774</li>\n",
       "\t<li>0.443548387096774</li>\n",
       "\t<li>0.443548387096774</li>\n",
       "\t<li>0.0788530465949821</li>\n",
       "\t<li>0.0788530465949821</li>\n",
       "\t<li>0.443548387096774</li>\n",
       "\t<li>0.0788530465949821</li>\n",
       "\t<li>0.443548387096774</li>\n",
       "\t<li>0.443548387096774</li>\n",
       "\t<li>0.443548387096774</li>\n",
       "</ol>\n"
      ],
      "text/latex": [
       "\\begin{enumerate*}\n",
       "\\item 0.443548387096774\n",
       "\\item 0.443548387096774\n",
       "\\item 0.443548387096774\n",
       "\\item 0.0788530465949821\n",
       "\\item 0.0788530465949821\n",
       "\\item 0.443548387096774\n",
       "\\item 0.0788530465949821\n",
       "\\item 0.443548387096774\n",
       "\\item 0.443548387096774\n",
       "\\item 0.443548387096774\n",
       "\\end{enumerate*}\n"
      ],
      "text/markdown": [
       "1. 0.443548387096774\n",
       "2. 0.443548387096774\n",
       "3. 0.443548387096774\n",
       "4. 0.0788530465949821\n",
       "5. 0.0788530465949821\n",
       "6. 0.443548387096774\n",
       "7. 0.0788530465949821\n",
       "8. 0.443548387096774\n",
       "9. 0.443548387096774\n",
       "10. 0.443548387096774\n",
       "\n",
       "\n"
      ],
      "text/plain": [
       " [1] 0.44354839 0.44354839 0.44354839 0.07885305 0.07885305 0.44354839\n",
       " [7] 0.07885305 0.44354839 0.44354839 0.44354839"
      ]
     },
     "metadata": {},
     "output_type": "display_data"
    }
   ],
   "source": [
    "# выводим спрогнозированные вероятности отрицательного\n",
    "# класса для первых 10 наблюдений\n",
    "# контрольной выборки\n",
    "prob_hold <- predict(chd, holdout, type = \"prob\")\n",
    "prob_hold[1:10]"
   ]
  },
  {
   "cell_type": "code",
   "execution_count": 56,
   "metadata": {},
   "outputs": [
    {
     "data": {
      "text/html": [
       "<ol class=list-inline>\n",
       "\t<li>0.44</li>\n",
       "\t<li>0.44</li>\n",
       "\t<li>0.44</li>\n",
       "\t<li>0.08</li>\n",
       "\t<li>0.08</li>\n",
       "\t<li>0.44</li>\n",
       "\t<li>0.08</li>\n",
       "\t<li>0.44</li>\n",
       "\t<li>0.44</li>\n",
       "\t<li>0.44</li>\n",
       "</ol>\n"
      ],
      "text/latex": [
       "\\begin{enumerate*}\n",
       "\\item 0.44\n",
       "\\item 0.44\n",
       "\\item 0.44\n",
       "\\item 0.08\n",
       "\\item 0.08\n",
       "\\item 0.44\n",
       "\\item 0.08\n",
       "\\item 0.44\n",
       "\\item 0.44\n",
       "\\item 0.44\n",
       "\\end{enumerate*}\n"
      ],
      "text/markdown": [
       "1. 0.44\n",
       "2. 0.44\n",
       "3. 0.44\n",
       "4. 0.08\n",
       "5. 0.08\n",
       "6. 0.44\n",
       "7. 0.08\n",
       "8. 0.44\n",
       "9. 0.44\n",
       "10. 0.44\n",
       "\n",
       "\n"
      ],
      "text/plain": [
       " [1] 0.44 0.44 0.44 0.08 0.08 0.44 0.08 0.44 0.44 0.44"
      ]
     },
     "metadata": {},
     "output_type": "display_data"
    }
   ],
   "source": [
    "# округляем спрогнозированные вероятности\n",
    "# до второго десятичного знака\n",
    "round(prob_hold[1:10], 2)"
   ]
  },
  {
   "cell_type": "code",
   "execution_count": 57,
   "metadata": {},
   "outputs": [],
   "source": [
    "# извлекаем правила разбиения,\n",
    "# полученные нашей моделью\n",
    "library(partykit)\n",
    "treetable <- function(party_tree) {\n",
    "  \n",
    "  df_list <- list()\n",
    "  var_names <-  attr(party_tree$terms, \"term.labels\")\n",
    "  var_levels <- lapply(party_tree$data, levels)\n",
    "  \n",
    "  walk_the_tree <- function(node, rule_branch = NULL) {\n",
    "    # проходим структуру разбиений дерева (рекурсивная функция)\n",
    "    # извлекаем правила для каждой ветви\n",
    "    if(missing(rule_branch)) {\n",
    "      rule_branch <- setNames(data.frame(t(replicate(length(var_names), NA))), var_names)\n",
    "      rule_branch <- cbind(rule_branch, nodeId = NA)\n",
    "      rule_branch <- cbind(rule_branch, predict = NA)\n",
    "    }\n",
    "    if(is.terminal(node)) {\n",
    "      rule_branch[[\"nodeId\"]] <- node$id\n",
    "      rule_branch[[\"predict\"]] <- predict_party(party_tree, node$id, type = \"prob\") \n",
    "      \n",
    "      \n",
    "      df_list[[as.character(node$id)]] <<- rule_branch\n",
    "    } else {\n",
    "      for(i in 1:length(node)) {\n",
    "        rule_branch1 <- rule_branch\n",
    "        val1 <- decision_rule(node,i)\n",
    "        rule_branch1[[names(val1)[1]]] <- val1\n",
    "        walk_the_tree(node[i], rule_branch1)\n",
    "      }\n",
    "    }\n",
    "  }\n",
    "  \n",
    "  decision_rule <- function(node, i) {\n",
    "    # возвращаем правила разбиения в датафрейм вместе с названиями переменных и значениями\n",
    "    var_name <- var_names[node$split$varid[[1]]]\n",
    "    values_vec <- var_levels[[var_name]][ node$split$index == i]\n",
    "    values_txt <- paste(values_vec, collapse = \", \")\n",
    "    return( setNames(values_txt, var_name))\n",
    "  }\n",
    "  walk_the_tree(party_tree$node)\n",
    "  res_table <- Reduce(rbind, df_list)\n",
    "  return(res_table)\n",
    "}\n",
    "\n",
    "table <- treetable(chd)"
   ]
  },
  {
   "cell_type": "code",
   "execution_count": 58,
   "metadata": {},
   "outputs": [
    {
     "name": "stdout",
     "output_type": "stream",
     "text": [
      "     longdist                   local int_disc billtype pay  gender marital\n",
      "1          <2                    <NA>       NA       NA  NA Женский      NA\n",
      "2   2-8, 9-14                    <NA>       NA       NA  NA Женский      NA\n",
      "3  15-20, 21+                    <NA>       NA       NA  NA Женский      NA\n",
      "4        <NA>                      <8       NA       NA  NA Мужской      NA\n",
      "5        <NA> 8-20, 21-35, 36-55, 56+       NA       NA  NA Мужской      NA\n",
      "6          <2 8-20, 21-35, 36-55, 56+       NA       NA  NA Мужской      NA\n",
      "7         2-8 8-20, 21-35, 36-55, 56+       NA       NA  NA Мужской      NA\n",
      "8 9-14, 15-20 8-20, 21-35, 36-55, 56+       NA       NA  NA Мужской      NA\n",
      "9         21+ 8-20, 21-35, 36-55, 56+       NA       NA  NA Мужской      NA\n",
      "  income                   agecat nodeId predict.Остается predict.Уходит\n",
      "1     NA                     <NA>      3       0.07885305     0.92114695\n",
      "2     NA                     <NA>      4       0.34375000     0.65625000\n",
      "3     NA                     <NA>      5       0.42701863     0.57298137\n",
      "4     NA                     <NA>      7       0.44354839     0.55645161\n",
      "5     NA                      <31      9       0.68780488     0.31219512\n",
      "6     NA 31-45, 46-58, 59-70, 71+     11       0.95714286     0.04285714\n",
      "7     NA 31-45, 46-58, 59-70, 71+     12       0.86693548     0.13306452\n",
      "8     NA 31-45, 46-58, 59-70, 71+     13       0.92611684     0.07388316\n",
      "9     NA 31-45, 46-58, 59-70, 71+     14       0.85714286     0.14285714\n"
     ]
    }
   ],
   "source": [
    "print(table)"
   ]
  },
  {
   "cell_type": "code",
   "execution_count": 59,
   "metadata": {
    "scrolled": true
   },
   "outputs": [
    {
     "data": {
      "text/html": [
       "<dl class=dl-horizontal>\n",
       "\t<dt>3</dt>\n",
       "\t\t<dd>Уходит</dd>\n",
       "\t<dt>8</dt>\n",
       "\t\t<dd>Уходит</dd>\n",
       "\t<dt>14</dt>\n",
       "\t\t<dd>Уходит</dd>\n",
       "\t<dt>18</dt>\n",
       "\t\t<dd>Уходит</dd>\n",
       "\t<dt>22</dt>\n",
       "\t\t<dd>Уходит</dd>\n",
       "\t<dt>25</dt>\n",
       "\t\t<dd>Уходит</dd>\n",
       "\t<dt>35</dt>\n",
       "\t\t<dd>Уходит</dd>\n",
       "\t<dt>37</dt>\n",
       "\t\t<dd>Уходит</dd>\n",
       "\t<dt>38</dt>\n",
       "\t\t<dd>Уходит</dd>\n",
       "\t<dt>43</dt>\n",
       "\t\t<dd>Уходит</dd>\n",
       "</dl>\n",
       "\n",
       "<details>\n",
       "\t<summary style=display:list-item;cursor:pointer>\n",
       "\t\t<strong>Levels</strong>:\n",
       "\t</summary>\n",
       "\t<ol class=list-inline>\n",
       "\t\t<li>'Остается'</li>\n",
       "\t\t<li>'Уходит'</li>\n",
       "\t</ol>\n",
       "</details>"
      ],
      "text/latex": [
       "\\begin{description*}\n",
       "\\item[3] Уходит\n",
       "\\item[8] Уходит\n",
       "\\item[14] Уходит\n",
       "\\item[18] Уходит\n",
       "\\item[22] Уходит\n",
       "\\item[25] Уходит\n",
       "\\item[35] Уходит\n",
       "\\item[37] Уходит\n",
       "\\item[38] Уходит\n",
       "\\item[43] Уходит\n",
       "\\end{description*}\n",
       "\n",
       "\\emph{Levels}: \\begin{enumerate*}\n",
       "\\item 'Остается'\n",
       "\\item 'Уходит'\n",
       "\\end{enumerate*}\n"
      ],
      "text/markdown": [
       "3\n",
       ":   Уходит8\n",
       ":   Уходит14\n",
       ":   Уходит18\n",
       ":   Уходит22\n",
       ":   Уходит25\n",
       ":   Уходит35\n",
       ":   Уходит37\n",
       ":   Уходит38\n",
       ":   Уходит43\n",
       ":   Уходит\n",
       "\n",
       "\n",
       "**Levels**: 1. 'Остается'\n",
       "2. 'Уходит'\n",
       "\n",
       "\n"
      ],
      "text/plain": [
       "     3      8     14     18     22     25     35     37     38     43 \n",
       "Уходит Уходит Уходит Уходит Уходит Уходит Уходит Уходит Уходит Уходит \n",
       "Levels: Остается Уходит"
      ]
     },
     "metadata": {},
     "output_type": "display_data"
    }
   ],
   "source": [
    "# задаем стартовое значение генератора\n",
    "# случайных чисел для воспроизводимости\n",
    "set.seed(42)\n",
    "\n",
    "# выводим спрогнозированные классы\n",
    "# для первых 10 наблюдений\n",
    "# контрольной выборки\n",
    "predvalue_hold <- predict(chd, holdout, type = \"response\")\n",
    "predvalue_hold[1:10]\n"
   ]
  },
  {
   "cell_type": "code",
   "execution_count": 60,
   "metadata": {},
   "outputs": [
    {
     "data": {
      "text/plain": [
       "          predvalue_hold\n",
       "           Остается Уходит\n",
       "  Остается      464    282\n",
       "  Уходит         73    525"
      ]
     },
     "metadata": {},
     "output_type": "display_data"
    }
   ],
   "source": [
    "# строим таблицу классификации\n",
    "table(holdout$churn, predvalue_hold)"
   ]
  },
  {
   "attachments": {},
   "cell_type": "markdown",
   "metadata": {},
   "source": [
    "## I.13. Построение ROC-кривой и вычисление AUC для модели"
   ]
  },
  {
   "cell_type": "code",
   "execution_count": 61,
   "metadata": {},
   "outputs": [
    {
     "name": "stderr",
     "output_type": "stream",
     "text": [
      "Type 'citation(\"pROC\")' for a citation.\n",
      "\n",
      "Attaching package: ‘pROC’\n",
      "\n",
      "The following objects are masked from ‘package:stats’:\n",
      "\n",
      "    cov, smooth, var\n",
      "\n"
     ]
    },
    {
     "data": {
      "text/plain": [
       "\n",
       "Call:\n",
       "roc.default(response = holdout$churn, predictor = prob_hold[,     2])\n",
       "\n",
       "Data: prob_hold[, 2] in 746 controls (holdout$churn Остается) < 598 cases (holdout$churn Уходит).\n",
       "Area under the curve: 0.7875"
      ]
     },
     "metadata": {},
     "output_type": "display_data"
    }
   ],
   "source": [
    "# загружаем пакет pROC\n",
    "library(pROC)\n",
    "\n",
    "# выводим AUC нашей модели дерева\n",
    "# для контрольной выборки\n",
    "roc_hold <- roc(holdout$churn, prob_hold[,2])\n",
    "roc_hold"
   ]
  },
  {
   "cell_type": "code",
   "execution_count": 62,
   "metadata": {
    "scrolled": false
   },
   "outputs": [
    {
     "data": {
      "text/plain": [
       "\n",
       "Call:\n",
       "roc.default(response = holdout$churn, predictor = prob_hold[,     2])\n",
       "\n",
       "Data: prob_hold[, 2] in 746 controls (holdout$churn Остается) < 598 cases (holdout$churn Уходит).\n",
       "Area under the curve: 0.7875"
      ]
     },
     "metadata": {},
     "output_type": "display_data"
    },
    {
     "data": {
      "image/png": "[encoded data removed]",
      "text/plain": [
       "plot without title"
      ]
     },
     "metadata": {},
     "output_type": "display_data"
    }
   ],
   "source": [
    "# строим ROC-кривую нашей модели дерева\n",
    "# для контрольной выборки\n",
    "roc_hold <- roc(holdout$churn, prob_hold[,2])\n",
    "roc_hold\n",
    "plot.roc(roc_hold)"
   ]
  },
  {
   "cell_type": "markdown",
   "metadata": {},
   "source": [
    "## I.14. Вычисление интервальных оценок AUC для модели"
   ]
  },
  {
   "cell_type": "code",
   "execution_count": 63,
   "metadata": {},
   "outputs": [
    {
     "data": {
      "text/plain": [
       "\n",
       "Call:\n",
       "roc.default(response = holdout$churn, predictor = prob_hold[,     2], ci = TRUE)\n",
       "\n",
       "Data: prob_hold[, 2] in 746 controls (holdout$churn Остается) < 598 cases (holdout$churn Уходит).\n",
       "Area under the curve: 0.7875\n",
       "95% CI: 0.7637-0.8112 (DeLong)"
      ]
     },
     "metadata": {},
     "output_type": "display_data"
    }
   ],
   "source": [
    "# вычисляем 95%-ный доверительный интервал AUC \n",
    "# по асимптотическому методу Делонга (по умолчанию)\n",
    "# для модели дерева на контрольной выборке\n",
    "roc_hold <- roc(holdout$churn, prob_hold[,2], ci = TRUE)\n",
    "roc_hold"
   ]
  },
  {
   "cell_type": "code",
   "execution_count": 64,
   "metadata": {},
   "outputs": [
    {
     "data": {
      "text/html": [
       "<dl class=dl-horizontal>\n",
       "\t<dt>2.5%</dt>\n",
       "\t\t<dd>0.762991080635183</dd>\n",
       "\t<dt>50%</dt>\n",
       "\t\t<dd>0.787364270535386</dd>\n",
       "\t<dt>97.5%</dt>\n",
       "\t\t<dd>0.811130796802568</dd>\n",
       "</dl>\n"
      ],
      "text/latex": [
       "\\begin{description*}\n",
       "\\item[2.5\\textbackslash{}\\%] 0.762991080635183\n",
       "\\item[50\\textbackslash{}\\%] 0.787364270535386\n",
       "\\item[97.5\\textbackslash{}\\%] 0.811130796802568\n",
       "\\end{description*}\n"
      ],
      "text/markdown": [
       "2.5%\n",
       ":   0.76299108063518350%\n",
       ":   0.78736427053538697.5%\n",
       ":   0.811130796802568\n",
       "\n"
      ],
      "text/plain": [
       "95% CI: 0.763-0.8111 (2000 stratified bootstrap replicates)"
      ]
     },
     "metadata": {},
     "output_type": "display_data"
    }
   ],
   "source": [
    "# бутстреп использует рандомизацию, поэтому \n",
    "# задаем стартовое значение генератора\n",
    "# случайных чисел для воспроизводимости\n",
    "set.seed(14)\n",
    "# вычисляем 95%-ный доверительный интервал AUC \n",
    "# по бутстреп-методу (по умолчанию 2000 бутстреп-\n",
    "# выборок) для модели дерева на контрольной выборке\n",
    "ci.auc(roc_hold, method = \"bootstrap\")"
   ]
  },
  {
   "attachments": {},
   "cell_type": "markdown",
   "metadata": {},
   "source": [
    "## I.15. Сравнение графиков ROC-кривых для обучающей и контрольной выборок"
   ]
  },
  {
   "cell_type": "code",
   "execution_count": 65,
   "metadata": {},
   "outputs": [],
   "source": [
    "# вычисляем вероятности классов для обучающей\n",
    "# выборки и записываем в объект prob_dev\n",
    "prob_dev <- predict(chd, development, type = \"prob\")"
   ]
  },
  {
   "cell_type": "code",
   "execution_count": 66,
   "metadata": {
    "scrolled": false
   },
   "outputs": [
    {
     "data": {
      "image/png": "[encoded data removed]",
      "text/plain": [
       "Plot with title “Графики ROC-кривых для модели CHAID”"
      ]
     },
     "metadata": {},
     "output_type": "display_data"
    }
   ],
   "source": [
    "# строим график ROC-кривой для обучающей выборки\n",
    "roc_dev <-plot.roc(development$churn, prob_dev[, 2], \n",
    "                   main = \"Графики ROC-кривых для модели CHAID\",\n",
    "                   ci = TRUE, percent = TRUE,\n",
    "                   print.auc = TRUE, col = \"red\")\n",
    "\n",
    "# добавляем в уже существующий график ROC-кривую\n",
    "# для контрольной выборки\n",
    "roc_hold <-plot.roc(holdout$churn, prob_hold[, 2], \n",
    "                    ci = TRUE, percent = TRUE,\n",
    "                    print.auc = TRUE, print.auc.x = 50, \n",
    "                    print.auc.y = 45, col = \"purple\", \n",
    "                    add = TRUE)\n",
    "\n",
    "# добавляем легенды\n",
    "legend(\"bottomright\", \n",
    "       legend = c(\"Обучающая выборка\", \"Контрольная выборка\"), \n",
    "       col = c(\"red\", \"purple\"), lwd = 2)"
   ]
  },
  {
   "attachments": {},
   "cell_type": "markdown",
   "metadata": {},
   "source": [
    "## I.16. Поиск оптимальных значений гиперпараметров с помощью решетчатого поиска"
   ]
  },
  {
   "cell_type": "code",
   "execution_count": 67,
   "metadata": {},
   "outputs": [
    {
     "name": "stderr",
     "output_type": "stream",
     "text": [
      "\n",
      "Attaching package: ‘caret’\n",
      "\n",
      "The following object is masked from ‘package:survival’:\n",
      "\n",
      "    cluster\n",
      "\n",
      "\n",
      "Attaching package: ‘e1071’\n",
      "\n",
      "The following object is masked from ‘package:imputeMissings’:\n",
      "\n",
      "    impute\n",
      "\n"
     ]
    }
   ],
   "source": [
    "# загружаем необходимые пакеты\n",
    "library(caret)\n",
    "library(e1071)"
   ]
  },
  {
   "cell_type": "code",
   "execution_count": 68,
   "metadata": {},
   "outputs": [],
   "source": [
    "# создаем массив признаков и массив меток\n",
    "features <- setdiff(names(development), \"churn\")\n",
    "x <- development[, features]\n",
    "y <- development$churn"
   ]
  },
  {
   "cell_type": "code",
   "execution_count": 69,
   "metadata": {},
   "outputs": [],
   "source": [
    "# задаем стратегию проверки\n",
    "train_control <- trainControl(method = \"cv\",\n",
    "                              number = 10, \n",
    "                              classProbs = TRUE, \n",
    "                              summaryFunction = twoClassSummary)"
   ]
  },
  {
   "cell_type": "code",
   "execution_count": 70,
   "metadata": {},
   "outputs": [],
   "source": [
    "# пишем функцию \n",
    "cusCHAID <- list(label = \"custom CHAID\",\n",
    "                 library = \"CHAID\",\n",
    "                 loop = NULL,\n",
    "                 type = c(\"Classification\"),\n",
    "                 parameters = data.frame(parameter = c('minsplit', 'minbucket', 'minprob', 'maxheight'),\n",
    "                                         class = rep('numeric', 4),\n",
    "                                         label = c('Numb obs in response where no further split', \n",
    "                                                   \"Minimum numb obs in terminal nodes\", \n",
    "                                                   \"Minimum freq of obs in terminal nodes.\",\n",
    "                                                   \"Maximum height for the tree\")\n",
    "                 ),\n",
    "                 grid = function(x, y, len = NULL, search = \"grid\") {\n",
    "                   if(search == \"grid\") {\n",
    "                     out <- data.frame(minsplit = c(20,30),\n",
    "                                       minbucket = 7,\n",
    "                                       minprob = c(0.05,0.01),\n",
    "                                       maxheight = -1)\n",
    "                   } else {\n",
    "                     out <- data.frame(minsplit = c(20,30),\n",
    "                                       minbucket = 7,\n",
    "                                       minprob = c(0.05,0.01),\n",
    "                                       maxheight = -1)\n",
    "                   }\n",
    "                   out\n",
    "                 },\n",
    "                 fit = function(x, y, wts, param, lev, last, classProbs, ...) {\n",
    "                   dat <- if(is.data.frame(x)) x else as.data.frame(x)\n",
    "                   dat$.outcome <- y\n",
    "                   theDots <- list(...)\n",
    "                   if(any(names(theDots) == \"control\")) {\n",
    "                     theDots$control$minsplit <- param$minsplit\n",
    "                     theDots$control$minbucket <- param$minbucket\n",
    "                     theDots$control$minprob <- param$minprob\n",
    "                     theDots$control$maxheight <- param$maxheight\n",
    "                     ctl <- theDots$control\n",
    "                     theDots$control <- NULL\n",
    "                   } else ctl <- chaid_control(minsplit = param$minsplit,\n",
    "                                               minbucket = param$minbucket,\n",
    "                                               minprob = param$minprob,\n",
    "                                               maxheight = param$maxheight)\n",
    "                   ## передаем веса\n",
    "                   if(!is.null(wts)) theDots$weights <- wts\n",
    "                   modelArgs <- c(\n",
    "                     list(\n",
    "                       formula = as.formula(\".outcome ~ .\"),\n",
    "                       data = dat,\n",
    "                       control = ctl),\n",
    "                     theDots)\n",
    "                   out <- do.call(CHAID::chaid, modelArgs)\n",
    "                   out\n",
    "                 },\n",
    "                 predict = function(modelFit, newdata, submodels = NULL) {\n",
    "                   if(!is.data.frame(newdata)) newdata <- as.data.frame(newdata)\n",
    "                   predict(modelFit, newdata)\n",
    "                 },\n",
    "                 prob = function(modelFit, newdata, submodels = NULL) {\n",
    "                   if(!is.data.frame(newdata)) newdata <- as.data.frame(newdata)\n",
    "                   predict(modelFit, newdata, type = \"prob\")\n",
    "                 },\n",
    "                 levels = function(x) x$obsLevels,\n",
    "                 predictors = function(x, surrogate = TRUE, ...) {\n",
    "                   predictors(terms(x))\n",
    "                 },\n",
    "                 tags = c('Tree-Based Model', \"Implicit Feature Selection\", \"Two Class Only\", \"Accepts Case Weights\"),\n",
    "                 sort = function(x) x[order(-x$minsplit, -x$minbucket, -x$minprob, -x$maxheight),])"
   ]
  },
  {
   "cell_type": "code",
   "execution_count": 71,
   "metadata": {
    "scrolled": true
   },
   "outputs": [
    {
     "data": {
      "text/html": [
       "<table>\n",
       "<thead><tr><th scope=col>minsplit</th><th scope=col>minprob</th><th scope=col>minbucket</th><th scope=col>maxheight</th></tr></thead>\n",
       "<tbody>\n",
       "\t<tr><td>300 </td><td>0.01</td><td>200 </td><td>-1  </td></tr>\n",
       "\t<tr><td>200 </td><td>0.01</td><td>200 </td><td>-1  </td></tr>\n",
       "\t<tr><td>300 </td><td>0.01</td><td>100 </td><td>-1  </td></tr>\n",
       "\t<tr><td>200 </td><td>0.01</td><td>100 </td><td>-1  </td></tr>\n",
       "\t<tr><td>300 </td><td>0.01</td><td> 50 </td><td>-1  </td></tr>\n",
       "\t<tr><td>200 </td><td>0.01</td><td> 50 </td><td>-1  </td></tr>\n",
       "</tbody>\n",
       "</table>\n"
      ],
      "text/latex": [
       "\\begin{tabular}{r|llll}\n",
       " minsplit & minprob & minbucket & maxheight\\\\\n",
       "\\hline\n",
       "\t 300  & 0.01 & 200  & -1  \\\\\n",
       "\t 200  & 0.01 & 200  & -1  \\\\\n",
       "\t 300  & 0.01 & 100  & -1  \\\\\n",
       "\t 200  & 0.01 & 100  & -1  \\\\\n",
       "\t 300  & 0.01 &  50  & -1  \\\\\n",
       "\t 200  & 0.01 &  50  & -1  \\\\\n",
       "\\end{tabular}\n"
      ],
      "text/markdown": [
       "\n",
       "minsplit | minprob | minbucket | maxheight | \n",
       "|---|---|---|---|---|---|\n",
       "| 300  | 0.01 | 200  | -1   | \n",
       "| 200  | 0.01 | 200  | -1   | \n",
       "| 300  | 0.01 | 100  | -1   | \n",
       "| 200  | 0.01 | 100  | -1   | \n",
       "| 300  | 0.01 |  50  | -1   | \n",
       "| 200  | 0.01 |  50  | -1   | \n",
       "\n",
       "\n"
      ],
      "text/plain": [
       "  minsplit minprob minbucket maxheight\n",
       "1 300      0.01    200       -1       \n",
       "2 200      0.01    200       -1       \n",
       "3 300      0.01    100       -1       \n",
       "4 200      0.01    100       -1       \n",
       "5 300      0.01     50       -1       \n",
       "6 200      0.01     50       -1       "
      ]
     },
     "metadata": {},
     "output_type": "display_data"
    }
   ],
   "source": [
    "# задаем сетку гиперпараметров\n",
    "search_grid <- expand.grid(\n",
    "  minsplit = c(300, 200),\n",
    "  minprob = .01,\n",
    "  minbucket = c(200, 100, 50),\n",
    "  maxheight = -1\n",
    ")\n",
    "search_grid"
   ]
  },
  {
   "cell_type": "code",
   "execution_count": 72,
   "metadata": {},
   "outputs": [],
   "source": [
    "# запускаем решетчатый поиск\n",
    "chaid_grid <- train(x = x,\n",
    "                    y = y,\n",
    "                    method = cusCHAID,\n",
    "                    trControl = train_control,\n",
    "                    metric = \"ROC\",\n",
    "                    tuneGrid = search_grid)"
   ]
  },
  {
   "cell_type": "code",
   "execution_count": 73,
   "metadata": {
    "scrolled": false
   },
   "outputs": [
    {
     "name": "stdout",
     "output_type": "stream",
     "text": [
      "custom CHAID \n",
      "\n",
      "3080 samples\n",
      "   9 predictor\n",
      "   2 classes: 'Остается', 'Уходит' \n",
      "\n",
      "No pre-processing\n",
      "Resampling: Cross-Validated (10 fold) \n",
      "Summary of sample sizes: 2772, 2771, 2772, 2772, 2772, 2772, ... \n",
      "Resampling results across tuning parameters:\n",
      "\n",
      "  minsplit  minbucket  ROC        Sens       Spec     \n",
      "  200        50        0.8418157  0.8213103  0.7339131\n",
      "  200       100        0.8418157  0.8213103  0.7339131\n",
      "  200       200        0.8418157  0.8213103  0.7339131\n",
      "  300        50        0.8303029  0.7817734  0.7376501\n",
      "  300       100        0.8303029  0.7817734  0.7376501\n",
      "  300       200        0.8303029  0.7817734  0.7376501\n",
      "\n",
      "Tuning parameter 'minprob' was held constant at a value of 0.01\n",
      "\n",
      "Tuning parameter 'maxheight' was held constant at a value of -1\n",
      "ROC was used to select the optimal model using the largest value.\n",
      "The final values used for the model were minsplit = 200, minbucket =\n",
      " 200, minprob = 0.01 and maxheight = -1.\n"
     ]
    }
   ],
   "source": [
    "# выводим результаты решетчатого поиска\n",
    "print(chaid_grid)"
   ]
  },
  {
   "cell_type": "code",
   "execution_count": 74,
   "metadata": {
    "scrolled": false
   },
   "outputs": [
    {
     "data": {
      "text/plain": [
       "\n",
       "Call:\n",
       "roc.default(response = holdout$churn, predictor = prob[, 2],     ci = TRUE)\n",
       "\n",
       "Data: prob[, 2] in 746 controls (holdout$churn Остается) < 598 cases (holdout$churn Уходит).\n",
       "Area under the curve: 0.8342\n",
       "95% CI: 0.8126-0.8558 (DeLong)"
      ]
     },
     "metadata": {},
     "output_type": "display_data"
    }
   ],
   "source": [
    "# вычисляем AUC оптимальной модели\n",
    "# на контрольной выборке\n",
    "prob <- predict(chaid_grid, holdout, type = \"prob\")\n",
    "roc(holdout$churn, prob[, 2], ci = TRUE)"
   ]
  },
  {
   "attachments": {},
   "cell_type": "markdown",
   "metadata": {},
   "source": [
    "# Этап II. Построение модели дерева CHAID на всей исторической выборке и применение к новым данным"
   ]
  },
  {
   "attachments": {},
   "cell_type": "markdown",
   "metadata": {},
   "source": [
    "## II.1. Загрузка исторических данных"
   ]
  },
  {
   "cell_type": "code",
   "execution_count": 75,
   "metadata": {
    "scrolled": true
   },
   "outputs": [],
   "source": [
    "# загружаем все исторические данные\n",
    "fulldata <- read.csv2(\"Churn_Verizon.csv\", sep = \";\", na.strings = \"\", fileEncoding = \"cp1251\")"
   ]
  },
  {
   "attachments": {},
   "cell_type": "markdown",
   "metadata": {},
   "source": [
    "## II.2. Предварительная подготовка данных"
   ]
  },
  {
   "cell_type": "code",
   "execution_count": 76,
   "metadata": {},
   "outputs": [],
   "source": [
    "# пишем функцию предобработки\n",
    "preprocess <- function(data, process_target = TRUE) {    \n",
    "    data <- unique(data)\n",
    "    data$gender <- as.character(data$gender)\n",
    "    data$gender <- gsub(\"\\\\&\\\\*\", \"\", data$gender)\n",
    "    data$gender <- as.factor(data$gender)\n",
    "    data$marital <- as.character(data$marital)\n",
    "    data$marital <- str_replace_all(data$marital, \"[^[:alnum:]]\", \"\")\n",
    "    data$marital <- as.factor(data$marital)\n",
    "    data$pay <- car::recode(data$pay, \"'CD' = 'CC'\")\n",
    "    data$income[is.na(data$income)] <- mean(data$income, na.rm = TRUE)\n",
    "    values <- imputeMissings::compute(data)\n",
    "    data <- imputeMissings::impute(data, object = values)\n",
    "    data$longdist <- ordered(data$longdist, \n",
    "                             levels = c(\"<2\", \"2-8\", \"9-14\", \"15-20\", \"21+\"))\n",
    "    data$local <- ordered(data$local, \n",
    "                          levels = c(\"<8\", \"8-20\", \"21-35\", \"36-55\", \"56+\"))\n",
    "    data$agecat <- ordered(data$agecat, \n",
    "                           levels = c(\"<31\", \"31-45\", \"46-58\", \"59-70\", \"71+\"))\n",
    "    data$income <-cut(x = data$income, \n",
    "                      breaks = c(-Inf, 11000, 21000, 31000, 41000,\n",
    "                                 50000, 59000, 69000, 80000,\n",
    "                                 90000, +Inf), \n",
    "                      include.lowest = TRUE, \n",
    "                      ordered_result = TRUE)\n",
    "    if (process_target) {\n",
    "    data$churn <- as.factor(data$churn)\n",
    "    }\n",
    "    return(data)\n",
    "}"
   ]
  },
  {
   "cell_type": "code",
   "execution_count": 77,
   "metadata": {},
   "outputs": [],
   "source": [
    "# применяем функцию предобработки ко всем историческим данным\n",
    "fulldata <- preprocess(fulldata, process_target = TRUE)"
   ]
  },
  {
   "cell_type": "code",
   "execution_count": 78,
   "metadata": {},
   "outputs": [
    {
     "name": "stdout",
     "output_type": "stream",
     "text": [
      "'data.frame':\t4424 obs. of  10 variables:\n",
      " $ longdist: Ord.factor w/ 5 levels \"<2\"<\"2-8\"<\"9-14\"<..: 1 4 1 1 1 4 4 1 1 1 ...\n",
      " $ local   : Ord.factor w/ 5 levels \"<8\"<\"8-20\"<\"21-35\"<..: 1 1 1 1 3 1 1 1 1 1 ...\n",
      " $ int_disc: Factor w/ 2 levels \"Да\",\"Нет\": 2 2 2 2 2 2 2 2 1 2 ...\n",
      " $ billtype: Factor w/ 2 levels \"Бесплатный\",\"Бюджетный\": 2 1 2 1 1 1 2 1 2 1 ...\n",
      " $ pay     : Factor w/ 3 levels \"Auto\",\"CC\",\"CH\": 2 2 2 3 1 2 2 1 3 2 ...\n",
      " $ gender  : Factor w/ 2 levels \"Женский\",\"Мужской\": 2 2 2 2 1 1 2 2 2 2 ...\n",
      " $ marital : Factor w/ 2 levels \"Женат\",\"Одинокий\": 1 1 1 2 2 2 1 1 2 1 ...\n",
      " $ income  : Ord.factor w/ 10 levels \"[-Inf,1.1e+04]\"<..: 8 4 6 6 2 6 6 6 10 4 ...\n",
      " $ agecat  : Ord.factor w/ 5 levels \"<31\"<\"31-45\"<..: 1 1 2 1 1 1 1 1 1 1 ...\n",
      " $ churn   : Factor w/ 2 levels \"0\",\"1\": 2 2 2 1 2 2 2 2 2 2 ...\n",
      "NULL\n",
      "longdist    local int_disc billtype      pay   gender  marital   income \n",
      "       0        0        0        0        0        0        0        0 \n",
      "  agecat    churn \n",
      "       0        0 \n",
      "$longdist\n",
      "x\n",
      "15-20  9-14   2-8   21+    <2 \n",
      " 1057   993   867   771   736 \n",
      "\n",
      "$local\n",
      "x\n",
      "21-35  8-20   56+    <8 36-55 \n",
      " 1445   763   740   738   738 \n",
      "\n",
      "$int_disc\n",
      "x\n",
      " Нет   Да \n",
      "3048 1376 \n",
      "\n",
      "$billtype\n",
      "x\n",
      " Бюджетный Бесплатный \n",
      "      2243       2181 \n",
      "\n",
      "$pay\n",
      "x\n",
      "  CC   CH Auto \n",
      "2558  977  889 \n",
      "\n",
      "$gender\n",
      "x\n",
      "Женский Мужской \n",
      "   2240    2184 \n",
      "\n",
      "$marital\n",
      "x\n",
      "   Женат Одинокий \n",
      "    2625     1799 \n",
      "\n",
      "$income\n",
      "x\n",
      "  (5e+04,5.9e+04] (1.1e+04,2.1e+04] (2.1e+04,3.1e+04] (5.9e+04,6.9e+04] \n",
      "              518               460               452               451 \n",
      "     (9e+04, Inf]     (8e+04,9e+04]    [-Inf,1.1e+04]   (6.9e+04,8e+04] \n",
      "              446               444               432               432 \n",
      "(3.1e+04,4.1e+04]   (4.1e+04,5e+04] \n",
      "              417               372 \n",
      "\n",
      "$agecat\n",
      "x\n",
      "31-45 46-58   <31   71+ 59-70 \n",
      " 1304   908   755   740   717 \n",
      "\n",
      "$churn\n",
      "x\n",
      "   0    1 \n",
      "2492 1932 \n",
      "\n"
     ]
    }
   ],
   "source": [
    "# убеждаемся, что переменные приведены к нужным типам,\n",
    "# пропуски и редкие категории отсутствуют\n",
    "print(str(fulldata))\n",
    "print(sapply(fulldata, function(x) sum(is.na(x))))\n",
    "print(lapply(fulldata[sapply(fulldata, is.factor)], \n",
    "             function(x) sort(table(x, useNA = \"ifany\"), decreasing = TRUE)))"
   ]
  },
  {
   "attachments": {},
   "cell_type": "markdown",
   "metadata": {},
   "source": [
    "## II.3. Обучение модели дерева CHAID на всех исторических данных"
   ]
  },
  {
   "cell_type": "code",
   "execution_count": 79,
   "metadata": {},
   "outputs": [],
   "source": [
    "# строим модель дерева CHAID с оптимальными значениями гиперпараметров,\n",
    "# найденными по итогам решетчатого поиска, на всех исторических данных\n",
    "full_params <- chaid_control(minprob = 0.01, minsplit = 200, minbucket = 200)\n",
    "full_chd  <- chaid(churn ~ ., control = params, fulldata)"
   ]
  },
  {
   "cell_type": "markdown",
   "metadata": {},
   "source": [
    "## II.4. Загрузка новых данных"
   ]
  },
  {
   "cell_type": "code",
   "execution_count": 80,
   "metadata": {},
   "outputs": [],
   "source": [
    "# загружаем новые данные\n",
    "newdata <- read.csv2(\"Churn_Verizon_new.csv\", sep = \";\", fileEncoding = \"cp1251\", na.strings = \"\")"
   ]
  },
  {
   "attachments": {},
   "cell_type": "markdown",
   "metadata": {},
   "source": [
    "## II.5. Предварительная подготовка новых данных"
   ]
  },
  {
   "cell_type": "code",
   "execution_count": 81,
   "metadata": {},
   "outputs": [],
   "source": [
    "# применяем функцию предобработки к новым данным\n",
    "newdata <- preprocess(newdata, process_target = FALSE)"
   ]
  },
  {
   "cell_type": "code",
   "execution_count": 82,
   "metadata": {},
   "outputs": [
    {
     "name": "stdout",
     "output_type": "stream",
     "text": [
      "'data.frame':\t64 obs. of  9 variables:\n",
      " $ longdist: Ord.factor w/ 5 levels \"<2\"<\"2-8\"<\"9-14\"<..: 1 1 1 1 1 1 1 1 1 4 ...\n",
      " $ local   : Ord.factor w/ 5 levels \"<8\"<\"8-20\"<\"21-35\"<..: 1 1 1 1 1 1 1 1 1 4 ...\n",
      " $ int_disc: Factor w/ 2 levels \"Да\",\"Нет\": 2 2 2 2 2 2 2 2 1 2 ...\n",
      " $ billtype: Factor w/ 2 levels \"Бесплатный\",\"Бюджетный\": 2 1 1 1 1 1 2 1 1 1 ...\n",
      " $ pay     : Factor w/ 3 levels \"Auto\",\"CC\",\"CH\": 2 2 2 3 1 1 2 1 3 2 ...\n",
      " $ gender  : Factor w/ 2 levels \"Женский\",\"Мужской\": 2 2 2 2 2 1 2 2 2 1 ...\n",
      " $ marital : Factor w/ 2 levels \"Женат\",\"Одинокий\": 1 1 1 2 2 2 1 2 2 1 ...\n",
      " $ income  : Ord.factor w/ 10 levels \"[-Inf,1.1e+04]\"<..: 6 5 2 10 5 7 10 9 5 1 ...\n",
      " $ agecat  : Ord.factor w/ 5 levels \"<31\"<\"31-45\"<..: 1 1 1 1 1 1 1 1 1 1 ...\n",
      "NULL\n",
      "longdist    local int_disc billtype      pay   gender  marital   income \n",
      "       0        0        0        0        0        0        0        0 \n",
      "  agecat \n",
      "       0 \n",
      "$longdist\n",
      "x\n",
      "15-20    <2   2-8  9-14   21+ \n",
      "   25    12    11    11     5 \n",
      "\n",
      "$local\n",
      "x\n",
      " 8-20 36-55    <8 21-35   56+ \n",
      "   28    16    10     6     4 \n",
      "\n",
      "$int_disc\n",
      "x\n",
      "Нет  Да \n",
      " 49  15 \n",
      "\n",
      "$billtype\n",
      "x\n",
      " Бюджетный Бесплатный \n",
      "        36         28 \n",
      "\n",
      "$pay\n",
      "x\n",
      "  CC Auto   CH \n",
      "  38   17    9 \n",
      "\n",
      "$gender\n",
      "x\n",
      "Мужской Женский \n",
      "     37      27 \n",
      "\n",
      "$marital\n",
      "x\n",
      "Одинокий    Женат \n",
      "      38       26 \n",
      "\n",
      "$income\n",
      "x\n",
      "  (4.1e+04,5e+04]    [-Inf,1.1e+04]     (8e+04,9e+04] (1.1e+04,2.1e+04] \n",
      "               10                 9                 8                 6 \n",
      "(5.9e+04,6.9e+04]      (9e+04, Inf] (2.1e+04,3.1e+04]   (5e+04,5.9e+04] \n",
      "                6                 6                 5                 5 \n",
      "  (6.9e+04,8e+04] (3.1e+04,4.1e+04] \n",
      "                5                 4 \n",
      "\n",
      "$agecat\n",
      "x\n",
      "  <31 31-45   71+ 46-58 59-70 \n",
      "   32    12    11     8     1 \n",
      "\n"
     ]
    }
   ],
   "source": [
    "# убеждаемся, что переменные приведены к нужным типам,\n",
    "# пропуски и новые категории отсутствуют\n",
    "print(str(newdata))\n",
    "print(sapply(newdata, function(x) sum(is.na(x))))\n",
    "print(lapply(newdata[sapply(newdata, is.factor)], \n",
    "             function(x) sort(table(x, useNA = \"ifany\"), decreasing = TRUE)))"
   ]
  },
  {
   "attachments": {},
   "cell_type": "markdown",
   "metadata": {},
   "source": [
    "## II.6. Применение модели дерева CHAID, построенной на всех исторических данных, к новым данным"
   ]
  },
  {
   "cell_type": "code",
   "execution_count": 83,
   "metadata": {},
   "outputs": [],
   "source": [
    "# вычисляем вероятности классов для новых данных\n",
    "newdata_prob <- predict(full_chd, newdata, type = \"prob\")"
   ]
  },
  {
   "cell_type": "code",
   "execution_count": null,
   "metadata": {},
   "outputs": [],
   "source": []
  }
 ],
 "metadata": {
  "kernelspec": {
   "display_name": "R",
   "language": "R",
   "name": "ir"
  },
  "language_info": {
   "codemirror_mode": "r",
   "file_extension": ".r",
   "mimetype": "text/x-r-source",
   "name": "R",
   "pygments_lexer": "r",
   "version": "3.5.1"
  }
 },
 "nbformat": 4,
 "nbformat_minor": 2
}
